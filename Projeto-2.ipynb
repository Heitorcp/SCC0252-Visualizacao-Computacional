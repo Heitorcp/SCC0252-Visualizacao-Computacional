{
 "cells": [
  {
   "cell_type": "markdown",
   "id": "d8891d45-2210-49d2-a576-68b90c8a5a7b",
   "metadata": {},
   "source": [
    "<center><b>SCC0252 - Visualização Computacional\n",
    "<br>Instituto de Ciências Matemáticas e de Computação - USP</b></center>\n",
    "\n",
    "<br>\n",
    "\n",
    "---\n",
    "\n",
    "<center><h2><b>IMDb Movies:<br/> Uma Visualização Exploratória dos Dados</b></h2></center>\n",
    "\n",
    "---"
   ]
  },
  {
   "cell_type": "markdown",
   "id": "f8667b3e-df96-40e9-9b72-9c88c5b7e0bb",
   "metadata": {},
   "source": [
    "## **Professora:** Maria Cristina\n",
    "\n",
    "**Integrantes:**                                         \n",
    "---\n",
    "- Giovanni W. da Costa. __Nº:__ 10431153\n",
    "- Heitor Carvalho Pinheiroa. __Nº:__ 11833351\n",
    "\n",
    "---"
   ]
  },
  {
   "cell_type": "markdown",
   "id": "e6d237d7-ccde-4e20-8a54-46b78e35fba5",
   "metadata": {
    "tags": []
   },
   "source": [
    "## **Preparação**\n",
    "---\n"
   ]
  },
  {
   "cell_type": "markdown",
   "id": "6a7a0e3c-c9df-41b5-871d-d5449013bd8d",
   "metadata": {
    "tags": []
   },
   "source": [
    "### Installs \n",
    "---"
   ]
  },
  {
   "cell_type": "code",
   "execution_count": 132,
   "id": "ba3e59cd-d202-4500-a9e0-53da1bfdb617",
   "metadata": {},
   "outputs": [],
   "source": [
    "# !pip install ipywidgets==7.7.2"
   ]
  },
  {
   "cell_type": "code",
   "execution_count": 133,
   "id": "03031309-4052-4db7-b673-28f240b9f7b9",
   "metadata": {},
   "outputs": [],
   "source": [
    "# !pip install plotly==5.10.0"
   ]
  },
  {
   "cell_type": "code",
   "execution_count": 134,
   "id": "1c97e1a4-1b45-472a-a073-439a4a96d514",
   "metadata": {},
   "outputs": [],
   "source": [
    "# !pip3 install seaborn"
   ]
  },
  {
   "cell_type": "code",
   "execution_count": 266,
   "id": "de44614d-c299-49e0-b06b-15aac6273274",
   "metadata": {
    "collapsed": true,
    "jupyter": {
     "outputs_hidden": true
    },
    "tags": []
   },
   "outputs": [
    {
     "name": "stdout",
     "output_type": "stream",
     "text": [
      "Defaulting to user installation because normal site-packages is not writeable\n",
      "Collecting voila\n",
      "  Downloading voila-0.4.0-py3-none-any.whl (5.5 MB)\n",
      "     ---------------------------------------- 5.5/5.5 MB 6.6 MB/s eta 0:00:00\n",
      "Requirement already satisfied: traitlets<6,>=5.0.3 in c:\\users\\faculdade\\appdata\\roaming\\python\\python39\\site-packages (from voila) (5.5.0)\n",
      "Requirement already satisfied: nbclient<0.8,>=0.4.0 in c:\\users\\faculdade\\appdata\\roaming\\python\\python39\\site-packages (from voila) (0.7.0)\n",
      "Requirement already satisfied: jupyter-server<2.0.0,>=1.18 in c:\\users\\faculdade\\appdata\\roaming\\python\\python39\\site-packages (from voila) (1.23.3)\n",
      "Requirement already satisfied: jupyterlab-server<3,>=2.3.0 in c:\\users\\faculdade\\appdata\\roaming\\python\\python39\\site-packages (from voila) (2.16.3)\n",
      "Requirement already satisfied: jupyter-core>=4.11.0 in c:\\users\\faculdade\\appdata\\roaming\\python\\python39\\site-packages (from voila) (5.0.0)\n",
      "Collecting websockets>=9.0\n",
      "  Downloading websockets-10.4-cp39-cp39-win_amd64.whl (101 kB)\n",
      "     -------------------------------------- 101.4/101.4 kB 5.7 MB/s eta 0:00:00\n",
      "Requirement already satisfied: nbconvert<8,>=6.4.5 in c:\\users\\faculdade\\appdata\\roaming\\python\\python39\\site-packages (from voila) (7.2.5)\n",
      "Collecting jupyter-client<=7.4.1,>=6.1.3\n",
      "  Downloading jupyter_client-7.4.1-py3-none-any.whl (132 kB)\n",
      "     -------------------------------------- 132.1/132.1 kB 7.6 MB/s eta 0:00:00\n",
      "Requirement already satisfied: entrypoints in c:\\users\\faculdade\\appdata\\roaming\\python\\python39\\site-packages (from jupyter-client<=7.4.1,>=6.1.3->voila) (0.4)\n",
      "Requirement already satisfied: nest-asyncio>=1.5.4 in c:\\users\\faculdade\\appdata\\roaming\\python\\python39\\site-packages (from jupyter-client<=7.4.1,>=6.1.3->voila) (1.5.6)\n",
      "Requirement already satisfied: python-dateutil>=2.8.2 in c:\\users\\faculdade\\appdata\\roaming\\python\\python39\\site-packages (from jupyter-client<=7.4.1,>=6.1.3->voila) (2.8.2)\n",
      "Requirement already satisfied: pyzmq>=23.0 in c:\\users\\faculdade\\appdata\\roaming\\python\\python39\\site-packages (from jupyter-client<=7.4.1,>=6.1.3->voila) (24.0.1)\n",
      "Requirement already satisfied: tornado>=6.2 in c:\\users\\faculdade\\appdata\\roaming\\python\\python39\\site-packages (from jupyter-client<=7.4.1,>=6.1.3->voila) (6.2)\n",
      "Requirement already satisfied: pywin32>=1.0 in c:\\users\\faculdade\\appdata\\roaming\\python\\python39\\site-packages (from jupyter-core>=4.11.0->voila) (305)\n",
      "Requirement already satisfied: platformdirs in c:\\users\\faculdade\\appdata\\roaming\\python\\python39\\site-packages (from jupyter-core>=4.11.0->voila) (2.5.4)\n",
      "Requirement already satisfied: websocket-client in c:\\users\\faculdade\\appdata\\roaming\\python\\python39\\site-packages (from jupyter-server<2.0.0,>=1.18->voila) (1.4.2)\n",
      "Requirement already satisfied: Send2Trash in c:\\users\\faculdade\\appdata\\roaming\\python\\python39\\site-packages (from jupyter-server<2.0.0,>=1.18->voila) (1.8.0)\n",
      "Requirement already satisfied: jinja2 in c:\\users\\faculdade\\appdata\\roaming\\python\\python39\\site-packages (from jupyter-server<2.0.0,>=1.18->voila) (3.1.2)\n",
      "Requirement already satisfied: terminado>=0.8.3 in c:\\users\\faculdade\\appdata\\roaming\\python\\python39\\site-packages (from jupyter-server<2.0.0,>=1.18->voila) (0.17.0)\n",
      "Requirement already satisfied: anyio<4,>=3.1.0 in c:\\users\\faculdade\\appdata\\roaming\\python\\python39\\site-packages (from jupyter-server<2.0.0,>=1.18->voila) (3.6.2)\n",
      "Requirement already satisfied: packaging in c:\\users\\faculdade\\appdata\\roaming\\python\\python39\\site-packages (from jupyter-server<2.0.0,>=1.18->voila) (21.3)\n",
      "Requirement already satisfied: prometheus-client in c:\\users\\faculdade\\appdata\\roaming\\python\\python39\\site-packages (from jupyter-server<2.0.0,>=1.18->voila) (0.15.0)\n",
      "Requirement already satisfied: pywinpty in c:\\users\\faculdade\\appdata\\roaming\\python\\python39\\site-packages (from jupyter-server<2.0.0,>=1.18->voila) (2.0.9)\n",
      "Requirement already satisfied: argon2-cffi in c:\\users\\faculdade\\appdata\\roaming\\python\\python39\\site-packages (from jupyter-server<2.0.0,>=1.18->voila) (21.3.0)\n",
      "Requirement already satisfied: nbformat>=5.2.0 in c:\\users\\faculdade\\appdata\\roaming\\python\\python39\\site-packages (from jupyter-server<2.0.0,>=1.18->voila) (5.7.0)\n",
      "Requirement already satisfied: jsonschema>=3.0.1 in c:\\users\\faculdade\\appdata\\roaming\\python\\python39\\site-packages (from jupyterlab-server<3,>=2.3.0->voila) (4.17.1)\n",
      "Requirement already satisfied: requests in c:\\users\\faculdade\\appdata\\roaming\\python\\python39\\site-packages (from jupyterlab-server<3,>=2.3.0->voila) (2.28.1)\n",
      "Requirement already satisfied: babel in c:\\users\\faculdade\\appdata\\roaming\\python\\python39\\site-packages (from jupyterlab-server<3,>=2.3.0->voila) (2.11.0)\n",
      "Requirement already satisfied: json5 in c:\\users\\faculdade\\appdata\\roaming\\python\\python39\\site-packages (from jupyterlab-server<3,>=2.3.0->voila) (0.9.10)\n",
      "Requirement already satisfied: importlib-metadata>=4.8.3 in c:\\users\\faculdade\\appdata\\roaming\\python\\python39\\site-packages (from jupyterlab-server<3,>=2.3.0->voila) (5.1.0)\n",
      "Requirement already satisfied: defusedxml in c:\\users\\faculdade\\appdata\\roaming\\python\\python39\\site-packages (from nbconvert<8,>=6.4.5->voila) (0.7.1)\n",
      "Requirement already satisfied: pygments>=2.4.1 in c:\\users\\faculdade\\appdata\\roaming\\python\\python39\\site-packages (from nbconvert<8,>=6.4.5->voila) (2.13.0)\n",
      "Requirement already satisfied: bleach in c:\\users\\faculdade\\appdata\\roaming\\python\\python39\\site-packages (from nbconvert<8,>=6.4.5->voila) (5.0.1)\n",
      "Requirement already satisfied: tinycss2 in c:\\users\\faculdade\\appdata\\roaming\\python\\python39\\site-packages (from nbconvert<8,>=6.4.5->voila) (1.2.1)\n",
      "Requirement already satisfied: jupyterlab-pygments in c:\\users\\faculdade\\appdata\\roaming\\python\\python39\\site-packages (from nbconvert<8,>=6.4.5->voila) (0.2.2)\n",
      "Requirement already satisfied: pandocfilters>=1.4.1 in c:\\users\\faculdade\\appdata\\roaming\\python\\python39\\site-packages (from nbconvert<8,>=6.4.5->voila) (1.5.0)\n",
      "Requirement already satisfied: beautifulsoup4 in c:\\users\\faculdade\\appdata\\roaming\\python\\python39\\site-packages (from nbconvert<8,>=6.4.5->voila) (4.11.1)\n",
      "Requirement already satisfied: markupsafe>=2.0 in c:\\users\\faculdade\\appdata\\roaming\\python\\python39\\site-packages (from nbconvert<8,>=6.4.5->voila) (2.1.1)\n",
      "Requirement already satisfied: mistune<3,>=2.0.3 in c:\\users\\faculdade\\appdata\\roaming\\python\\python39\\site-packages (from nbconvert<8,>=6.4.5->voila) (2.0.4)\n",
      "Requirement already satisfied: idna>=2.8 in c:\\users\\faculdade\\appdata\\roaming\\python\\python39\\site-packages (from anyio<4,>=3.1.0->jupyter-server<2.0.0,>=1.18->voila) (3.4)\n",
      "Requirement already satisfied: sniffio>=1.1 in c:\\users\\faculdade\\appdata\\roaming\\python\\python39\\site-packages (from anyio<4,>=3.1.0->jupyter-server<2.0.0,>=1.18->voila) (1.3.0)\n",
      "Requirement already satisfied: zipp>=0.5 in c:\\users\\faculdade\\appdata\\roaming\\python\\python39\\site-packages (from importlib-metadata>=4.8.3->jupyterlab-server<3,>=2.3.0->voila) (3.11.0)\n",
      "Requirement already satisfied: attrs>=17.4.0 in c:\\users\\faculdade\\appdata\\roaming\\python\\python39\\site-packages (from jsonschema>=3.0.1->jupyterlab-server<3,>=2.3.0->voila) (22.1.0)\n",
      "Requirement already satisfied: pyrsistent!=0.17.0,!=0.17.1,!=0.17.2,>=0.14.0 in c:\\users\\faculdade\\appdata\\roaming\\python\\python39\\site-packages (from jsonschema>=3.0.1->jupyterlab-server<3,>=2.3.0->voila) (0.19.2)\n",
      "Requirement already satisfied: fastjsonschema in c:\\users\\faculdade\\appdata\\roaming\\python\\python39\\site-packages (from nbformat>=5.2.0->jupyter-server<2.0.0,>=1.18->voila) (2.16.2)\n",
      "Requirement already satisfied: six>=1.5 in c:\\users\\faculdade\\appdata\\roaming\\python\\python39\\site-packages (from python-dateutil>=2.8.2->jupyter-client<=7.4.1,>=6.1.3->voila) (1.16.0)\n",
      "Requirement already satisfied: argon2-cffi-bindings in c:\\users\\faculdade\\appdata\\roaming\\python\\python39\\site-packages (from argon2-cffi->jupyter-server<2.0.0,>=1.18->voila) (21.2.0)\n",
      "Requirement already satisfied: pytz>=2015.7 in c:\\users\\faculdade\\appdata\\roaming\\python\\python39\\site-packages (from babel->jupyterlab-server<3,>=2.3.0->voila) (2022.6)\n",
      "Requirement already satisfied: soupsieve>1.2 in c:\\users\\faculdade\\appdata\\roaming\\python\\python39\\site-packages (from beautifulsoup4->nbconvert<8,>=6.4.5->voila) (2.3.2.post1)\n",
      "Requirement already satisfied: webencodings in c:\\users\\faculdade\\appdata\\roaming\\python\\python39\\site-packages (from bleach->nbconvert<8,>=6.4.5->voila) (0.5.1)\n",
      "Requirement already satisfied: pyparsing!=3.0.5,>=2.0.2 in c:\\users\\faculdade\\appdata\\roaming\\python\\python39\\site-packages (from packaging->jupyter-server<2.0.0,>=1.18->voila) (3.0.9)\n",
      "Requirement already satisfied: certifi>=2017.4.17 in c:\\users\\faculdade\\appdata\\roaming\\python\\python39\\site-packages (from requests->jupyterlab-server<3,>=2.3.0->voila) (2022.9.24)\n",
      "Requirement already satisfied: charset-normalizer<3,>=2 in c:\\users\\faculdade\\appdata\\roaming\\python\\python39\\site-packages (from requests->jupyterlab-server<3,>=2.3.0->voila) (2.1.1)\n",
      "Requirement already satisfied: urllib3<1.27,>=1.21.1 in c:\\users\\faculdade\\appdata\\roaming\\python\\python39\\site-packages (from requests->jupyterlab-server<3,>=2.3.0->voila) (1.26.13)\n",
      "Requirement already satisfied: cffi>=1.0.1 in c:\\users\\faculdade\\appdata\\roaming\\python\\python39\\site-packages (from argon2-cffi-bindings->argon2-cffi->jupyter-server<2.0.0,>=1.18->voila) (1.15.1)\n",
      "Requirement already satisfied: pycparser in c:\\users\\faculdade\\appdata\\roaming\\python\\python39\\site-packages (from cffi>=1.0.1->argon2-cffi-bindings->argon2-cffi->jupyter-server<2.0.0,>=1.18->voila) (2.21)\n",
      "Installing collected packages: websockets, jupyter-client, voila\n",
      "  Attempting uninstall: jupyter-client\n",
      "    Found existing installation: jupyter_client 7.4.7\n",
      "    Uninstalling jupyter_client-7.4.7:\n",
      "      Successfully uninstalled jupyter_client-7.4.7\n",
      "Successfully installed jupyter-client-7.4.1 voila-0.4.0 websockets-10.4\n"
     ]
    }
   ],
   "source": [
    "!pip3 install voila"
   ]
  },
  {
   "cell_type": "markdown",
   "id": "cd150e0d-f82c-4def-a666-be0f181b76bd",
   "metadata": {
    "jp-MarkdownHeadingCollapsed": true,
    "tags": []
   },
   "source": [
    "### Bibliotecas\n",
    "---"
   ]
  },
  {
   "cell_type": "code",
   "execution_count": 135,
   "id": "a710201f-1426-4ee3-a0f1-f0fcb12f8f6a",
   "metadata": {},
   "outputs": [],
   "source": [
    "#ignore Warnings\n",
    "\n",
    "import warnings\n",
    "warnings.filterwarnings('ignore')"
   ]
  },
  {
   "cell_type": "code",
   "execution_count": 136,
   "id": "bebbaa79-2887-4e72-88dd-d43887cb31d5",
   "metadata": {},
   "outputs": [],
   "source": [
    "# Linear Algebra\n",
    "\n",
    "import numpy as np \n",
    "import numpy.linalg as linear_algebra\n",
    "import math"
   ]
  },
  {
   "cell_type": "code",
   "execution_count": 137,
   "id": "f42cdb0c-ad41-4726-b997-03552d3cced5",
   "metadata": {},
   "outputs": [],
   "source": [
    "# DataFrame representation\n",
    "\n",
    "import pandas as pd"
   ]
  },
  {
   "cell_type": "code",
   "execution_count": 138,
   "id": "9fda863f-44cc-4d10-9109-9943a56354b5",
   "metadata": {},
   "outputs": [],
   "source": [
    "# Visualisation\n",
    "!pip install matplotlib -q\n",
    "\n",
    "import matplotlib.pyplot as plt\n",
    "import matplotlib\n",
    "import matplotlib.patches as mpatches"
   ]
  },
  {
   "cell_type": "code",
   "execution_count": 139,
   "id": "c27f5f33-b223-478f-b267-a73899ce71e1",
   "metadata": {},
   "outputs": [],
   "source": [
    "import seaborn as sns\n",
    "\n",
    "import plotly.express as px\n",
    "import plotly.graph_objects as go\n",
    "from plotly.subplots import make_subplots\n",
    "import plotly.io as pio\n",
    "\n",
    "from ctypes import alignment"
   ]
  },
  {
   "cell_type": "code",
   "execution_count": 140,
   "id": "c140c5ea-f9ba-4466-ac19-9d69ba1eade8",
   "metadata": {},
   "outputs": [],
   "source": [
    "#Bar Chart Race\n",
    "!pip install bar-chart-race -q\n",
    "import bar_chart_race as bcr"
   ]
  },
  {
   "cell_type": "code",
   "execution_count": 141,
   "id": "8c8c5987-9e37-4572-82a6-1b2f45d14132",
   "metadata": {},
   "outputs": [],
   "source": [
    "# ipwidgets\n",
    "\n",
    "from ipywidgets import GridspecLayout, Layout, VBox, HBox, HTML, widgets"
   ]
  },
  {
   "cell_type": "code",
   "execution_count": 142,
   "id": "3636899e-f302-45de-ae1a-bb5ce2f0b0c0",
   "metadata": {},
   "outputs": [],
   "source": [
    "# Dictionary operations\n",
    "\n",
    "import operator\n",
    "import collections\n",
    "import copy\n",
    "from collections import Counter"
   ]
  },
  {
   "cell_type": "markdown",
   "id": "f79f0ac3-041a-4862-ae50-865372ca1b24",
   "metadata": {
    "jp-MarkdownHeadingCollapsed": true,
    "tags": []
   },
   "source": [
    "---\n",
    "## Configurações\n",
    "---"
   ]
  },
  {
   "cell_type": "code",
   "execution_count": 143,
   "id": "db71647b-1022-4ea9-899c-b1edc436a4d6",
   "metadata": {},
   "outputs": [],
   "source": [
    "# Parâmetros globais do Pyplot\n",
    "# Tamanho das figuras\n",
    "\n",
    "plt.rcParams['figure.figsize'] = [7, 7]\n",
    "\n",
    "# Tamanho das fontes nos gráficos\n",
    "\n",
    "plt.rc('font', size = 14)          # controls default text sizes\n",
    "plt.rc('axes', titlesize = 17)     # fontsize of the axes title\n",
    "plt.rc('axes', labelsize = 17)     # fontsize of the x and y labels\n",
    "plt.rc('xtick', labelsize = 14)    # fontsize of the tick labels\n",
    "plt.rc('ytick', labelsize = 14)    # fontsize of the tick labels\n",
    "plt.rc('legend', fontsize = 16)    # legend fontsize\n",
    "plt.rc('figure', titlesize = 18)   # fontsize of vthe figure title\n",
    "\n",
    "suptitle_size = 20"
   ]
  },
  {
   "cell_type": "markdown",
   "id": "b1351370-9427-46a1-b4c8-06b437c29649",
   "metadata": {
    "jp-MarkdownHeadingCollapsed": true,
    "tags": []
   },
   "source": [
    "---\n",
    "## Funções Auxíliares\n",
    "---"
   ]
  },
  {
   "cell_type": "code",
   "execution_count": 144,
   "id": "9fec93b1-0f51-4b5a-8872-9394f2509a76",
   "metadata": {},
   "outputs": [],
   "source": [
    "def plot_ratings(data, bins = \"sqrt\", label_location = 0, size = [12,6], fontsize = 8):\n",
    "\n",
    "    #creating intervals bins for the ratings\n",
    "    n = data.shape[0]\n",
    "\n",
    "    #creating the figure\n",
    "    fig = plt.figure(figsize=size)\n",
    "    values, bins, _ = plt.hist(data, \n",
    "                             bins=bins, \n",
    "                             color = 'C0', \n",
    "                             alpha = 0.8, \n",
    "                             edgecolor='black', \n",
    "                             linewidth=1.2, \n",
    "                             weights=np.ones(n) / n)\n",
    "\n",
    "    for bin, value in zip(bins, values):\n",
    "        if value > 0:\n",
    "            plt.text(bin + label_location, value + 0.01, f'{value:.2f}', rotation = 45, fontsize = fontsize)\n",
    "  \n",
    "    plt.ylabel('Percent')\n",
    "\n",
    "    return plt.gca()"
   ]
  },
  {
   "cell_type": "markdown",
   "id": "00e544d6-281e-42be-a462-8193e95a8c78",
   "metadata": {
    "jp-MarkdownHeadingCollapsed": true,
    "tags": []
   },
   "source": [
    "---\n",
    "## **Limpeza e Pré-processamento**\n",
    "---"
   ]
  },
  {
   "cell_type": "markdown",
   "id": "796aa5f4-feeb-4544-9ed3-65885a604165",
   "metadata": {
    "tags": []
   },
   "source": [
    "### Open Dataset\n",
    "---"
   ]
  },
  {
   "cell_type": "code",
   "execution_count": 145,
   "id": "c846efd4-ba0d-487c-97fe-40c19ec51f57",
   "metadata": {},
   "outputs": [],
   "source": [
    "#loading the data\n",
    "\n",
    "imdb = pd.read_csv(\"https://raw.githubusercontent.com/Heitorcp/SCC0252-Visualizacao-Computacional/master/datasets/imdb/imdb_top_1000.csv\")"
   ]
  },
  {
   "cell_type": "code",
   "execution_count": 146,
   "id": "c614ceab-8707-41ac-bdc2-63e9caf69ab9",
   "metadata": {},
   "outputs": [],
   "source": [
    "poster_links = imdb['Poster_Link']\n",
    "imdb = imdb.drop([\"Poster_Link\"], axis = 1)"
   ]
  },
  {
   "cell_type": "code",
   "execution_count": 147,
   "id": "5799f3e1-c9cd-4055-8dad-813217eda10d",
   "metadata": {},
   "outputs": [
    {
     "name": "stdout",
     "output_type": "stream",
     "text": [
      "Dimensão dos dados : (1000, 15)\n"
     ]
    }
   ],
   "source": [
    "print(\"Dimensão dos dados :\", imdb.shape)"
   ]
  },
  {
   "cell_type": "code",
   "execution_count": 148,
   "id": "225398f1-7b70-4269-91dd-dac392ae666b",
   "metadata": {},
   "outputs": [
    {
     "data": {
      "text/html": [
       "<div>\n",
       "<style scoped>\n",
       "    .dataframe tbody tr th:only-of-type {\n",
       "        vertical-align: middle;\n",
       "    }\n",
       "\n",
       "    .dataframe tbody tr th {\n",
       "        vertical-align: top;\n",
       "    }\n",
       "\n",
       "    .dataframe thead th {\n",
       "        text-align: right;\n",
       "    }\n",
       "</style>\n",
       "<table border=\"1\" class=\"dataframe\">\n",
       "  <thead>\n",
       "    <tr style=\"text-align: right;\">\n",
       "      <th></th>\n",
       "      <th>Series_Title</th>\n",
       "      <th>Released_Year</th>\n",
       "      <th>Certificate</th>\n",
       "      <th>Runtime</th>\n",
       "      <th>Genre</th>\n",
       "      <th>IMDB_Rating</th>\n",
       "      <th>Overview</th>\n",
       "      <th>Meta_score</th>\n",
       "      <th>Director</th>\n",
       "      <th>Star1</th>\n",
       "      <th>Star2</th>\n",
       "      <th>Star3</th>\n",
       "      <th>Star4</th>\n",
       "      <th>No_of_Votes</th>\n",
       "      <th>Gross</th>\n",
       "    </tr>\n",
       "  </thead>\n",
       "  <tbody>\n",
       "    <tr>\n",
       "      <th>0</th>\n",
       "      <td>The Shawshank Redemption</td>\n",
       "      <td>1994</td>\n",
       "      <td>A</td>\n",
       "      <td>142 min</td>\n",
       "      <td>Drama</td>\n",
       "      <td>9.3</td>\n",
       "      <td>Two imprisoned men bond over a number of years...</td>\n",
       "      <td>80.0</td>\n",
       "      <td>Frank Darabont</td>\n",
       "      <td>Tim Robbins</td>\n",
       "      <td>Morgan Freeman</td>\n",
       "      <td>Bob Gunton</td>\n",
       "      <td>William Sadler</td>\n",
       "      <td>2343110</td>\n",
       "      <td>28,341,469</td>\n",
       "    </tr>\n",
       "    <tr>\n",
       "      <th>1</th>\n",
       "      <td>The Godfather</td>\n",
       "      <td>1972</td>\n",
       "      <td>A</td>\n",
       "      <td>175 min</td>\n",
       "      <td>Crime, Drama</td>\n",
       "      <td>9.2</td>\n",
       "      <td>An organized crime dynasty's aging patriarch t...</td>\n",
       "      <td>100.0</td>\n",
       "      <td>Francis Ford Coppola</td>\n",
       "      <td>Marlon Brando</td>\n",
       "      <td>Al Pacino</td>\n",
       "      <td>James Caan</td>\n",
       "      <td>Diane Keaton</td>\n",
       "      <td>1620367</td>\n",
       "      <td>134,966,411</td>\n",
       "    </tr>\n",
       "  </tbody>\n",
       "</table>\n",
       "</div>"
      ],
      "text/plain": [
       "               Series_Title Released_Year Certificate  Runtime         Genre  \\\n",
       "0  The Shawshank Redemption          1994           A  142 min         Drama   \n",
       "1             The Godfather          1972           A  175 min  Crime, Drama   \n",
       "\n",
       "   IMDB_Rating                                           Overview  Meta_score  \\\n",
       "0          9.3  Two imprisoned men bond over a number of years...        80.0   \n",
       "1          9.2  An organized crime dynasty's aging patriarch t...       100.0   \n",
       "\n",
       "               Director          Star1           Star2       Star3  \\\n",
       "0        Frank Darabont    Tim Robbins  Morgan Freeman  Bob Gunton   \n",
       "1  Francis Ford Coppola  Marlon Brando       Al Pacino  James Caan   \n",
       "\n",
       "            Star4  No_of_Votes        Gross  \n",
       "0  William Sadler      2343110   28,341,469  \n",
       "1    Diane Keaton      1620367  134,966,411  "
      ]
     },
     "execution_count": 148,
     "metadata": {},
     "output_type": "execute_result"
    }
   ],
   "source": [
    "imdb.head(2)"
   ]
  },
  {
   "cell_type": "code",
   "execution_count": 149,
   "id": "1964e5c3-3610-4250-b55b-941570628350",
   "metadata": {},
   "outputs": [
    {
     "name": "stdout",
     "output_type": "stream",
     "text": [
      "<class 'pandas.core.frame.DataFrame'>\n",
      "RangeIndex: 1000 entries, 0 to 999\n",
      "Data columns (total 15 columns):\n",
      " #   Column         Non-Null Count  Dtype  \n",
      "---  ------         --------------  -----  \n",
      " 0   Series_Title   1000 non-null   object \n",
      " 1   Released_Year  1000 non-null   object \n",
      " 2   Certificate    899 non-null    object \n",
      " 3   Runtime        1000 non-null   object \n",
      " 4   Genre          1000 non-null   object \n",
      " 5   IMDB_Rating    1000 non-null   float64\n",
      " 6   Overview       1000 non-null   object \n",
      " 7   Meta_score     843 non-null    float64\n",
      " 8   Director       1000 non-null   object \n",
      " 9   Star1          1000 non-null   object \n",
      " 10  Star2          1000 non-null   object \n",
      " 11  Star3          1000 non-null   object \n",
      " 12  Star4          1000 non-null   object \n",
      " 13  No_of_Votes    1000 non-null   int64  \n",
      " 14  Gross          831 non-null    object \n",
      "dtypes: float64(2), int64(1), object(12)\n",
      "memory usage: 117.3+ KB\n"
     ]
    }
   ],
   "source": [
    "imdb.info()"
   ]
  },
  {
   "cell_type": "markdown",
   "id": "2ce4277b-7936-4a7a-a372-8ecff46ac66f",
   "metadata": {
    "tags": []
   },
   "source": [
    "### Limpeza dos Dados\n",
    "---"
   ]
  },
  {
   "cell_type": "markdown",
   "id": "2342c144-29ac-4f18-9909-5a269b0de782",
   "metadata": {},
   "source": [
    "Precisamos converter as seguintes colunas quantitativas:\n",
    "\n",
    "  * Released_Year : Int\n",
    "  * Runtime: Int\n",
    "  * Gross: Float"
   ]
  },
  {
   "cell_type": "code",
   "execution_count": 150,
   "id": "5a5c2979-9d9d-4e32-a6db-3835b2565ab9",
   "metadata": {},
   "outputs": [],
   "source": [
    "imdb['Released_Year'] = pd.to_numeric(imdb['Released_Year'], errors = 'coerce')"
   ]
  },
  {
   "cell_type": "code",
   "execution_count": 151,
   "id": "9027179b-af3d-4007-b51e-c02cac6ce9e8",
   "metadata": {},
   "outputs": [
    {
     "data": {
      "text/plain": [
       "966   NaN\n",
       "Name: Released_Year, dtype: float64"
      ]
     },
     "execution_count": 151,
     "metadata": {},
     "output_type": "execute_result"
    }
   ],
   "source": [
    "imdb['Released_Year'][imdb['Released_Year'].isna()]"
   ]
  },
  {
   "cell_type": "code",
   "execution_count": 152,
   "id": "9a060654-9559-4503-af89-b9d3ab57a02d",
   "metadata": {},
   "outputs": [
    {
     "name": "stdout",
     "output_type": "stream",
     "text": [
      "Erros, na converção:\n",
      "\n",
      "index 966: Apollo 13\n"
     ]
    }
   ],
   "source": [
    "print(f'Erros, na converção:\\n')\n",
    "print(f\"index 966: {imdb['Series_Title'][966]}\")"
   ]
  },
  {
   "cell_type": "markdown",
   "id": "133e91cc-65f7-4b41-8402-67322fa181d8",
   "metadata": {},
   "source": [
    "Como o ano de lançamento do filme Apolo 13 é 1995, substituímos o valor no dataset"
   ]
  },
  {
   "cell_type": "code",
   "execution_count": 153,
   "id": "ee1a146b-f678-49eb-93a7-90b62faa9beb",
   "metadata": {},
   "outputs": [],
   "source": [
    "imdb['Released_Year'][966] = 1995\n",
    "imdb['Released_Year'] = imdb['Released_Year'].astype('int')"
   ]
  },
  {
   "cell_type": "code",
   "execution_count": 154,
   "id": "57327f6e-8a66-4162-b60a-799b25833d89",
   "metadata": {},
   "outputs": [],
   "source": [
    "imdb[\"Runtime\"] = imdb[\"Runtime\"].apply(lambda time: time.replace(' min', '')).astype(int)"
   ]
  },
  {
   "cell_type": "code",
   "execution_count": 155,
   "id": "8dc03c53-3e54-4183-ae2c-ce0f0a7ccf7b",
   "metadata": {},
   "outputs": [],
   "source": [
    "imdb[\"Gross\"] = imdb[\"Gross\"].str.replace(\",\",\"\").astype(float)\n",
    "\n",
    "imdb[\"Gross\"] = imdb[\"Gross\"].fillna(np.median(imdb[\"Gross\"].dropna()))\n",
    "imdb[\"Meta_score\"] = imdb[\"Meta_score\"].fillna(np.median(imdb['Meta_score'].dropna()))"
   ]
  },
  {
   "cell_type": "code",
   "execution_count": 156,
   "id": "3fa72a73-666d-489c-8c5c-3b01dd29cae8",
   "metadata": {},
   "outputs": [
    {
     "name": "stdout",
     "output_type": "stream",
     "text": [
      "<class 'pandas.core.frame.DataFrame'>\n",
      "RangeIndex: 1000 entries, 0 to 999\n",
      "Data columns (total 15 columns):\n",
      " #   Column         Non-Null Count  Dtype  \n",
      "---  ------         --------------  -----  \n",
      " 0   Series_Title   1000 non-null   object \n",
      " 1   Released_Year  1000 non-null   int32  \n",
      " 2   Certificate    899 non-null    object \n",
      " 3   Runtime        1000 non-null   int32  \n",
      " 4   Genre          1000 non-null   object \n",
      " 5   IMDB_Rating    1000 non-null   float64\n",
      " 6   Overview       1000 non-null   object \n",
      " 7   Meta_score     1000 non-null   float64\n",
      " 8   Director       1000 non-null   object \n",
      " 9   Star1          1000 non-null   object \n",
      " 10  Star2          1000 non-null   object \n",
      " 11  Star3          1000 non-null   object \n",
      " 12  Star4          1000 non-null   object \n",
      " 13  No_of_Votes    1000 non-null   int64  \n",
      " 14  Gross          1000 non-null   float64\n",
      "dtypes: float64(3), int32(2), int64(1), object(9)\n",
      "memory usage: 109.5+ KB\n"
     ]
    }
   ],
   "source": [
    "imdb.info()"
   ]
  },
  {
   "cell_type": "markdown",
   "id": "264e59ee-5a45-409f-b6fc-6adb78ef6e28",
   "metadata": {
    "tags": []
   },
   "source": [
    "### Extração de Atributos\n",
    "---"
   ]
  },
  {
   "cell_type": "markdown",
   "id": "381d1cbe-afca-4b0d-9379-94e508181f74",
   "metadata": {},
   "source": [
    "Neste dataset, um filme pode pertencer a mais de um gênero. Desse modo, a fim de realizarmos as análises necessárias, dividiremos os gêneros em diferentes colunas."
   ]
  },
  {
   "cell_type": "code",
   "execution_count": 157,
   "id": "7fffe462-d024-44a8-a6ae-3d450b7e12ea",
   "metadata": {},
   "outputs": [],
   "source": [
    "imdb_genre = imdb.copy()\n",
    "\n",
    "imdb_genre[[\"Genre01\", \"Genre02\", \"Genre03\"]] = imdb_genre[\"Genre\"].str.split(', ',3,expand=True).fillna(value=np.nan)\n",
    "\n",
    "#filling NaN genre columns with the previous value \n",
    "\n",
    "imdb_genre.loc[imdb_genre[\"Genre02\"].isnull(), [\"Genre02\"]] = imdb_genre[\"Genre01\"]\n",
    "imdb_genre.loc[imdb_genre[\"Genre03\"].isnull(), [\"Genre03\"]] = imdb_genre[\"Genre01\"]"
   ]
  },
  {
   "cell_type": "markdown",
   "id": "cfff51ec-4b3a-43a8-a258-3acfb6e3d1f0",
   "metadata": {},
   "source": [
    "Obtendo o resultado abaixo. Por exemplo, o último filme no dataset é classificado como pertencente aos gêneros: Crime, Mystery e Thriller."
   ]
  },
  {
   "cell_type": "code",
   "execution_count": 158,
   "id": "5b313402-81e3-436a-9a7c-63a433d63b99",
   "metadata": {},
   "outputs": [
    {
     "data": {
      "text/html": [
       "<div>\n",
       "<style scoped>\n",
       "    .dataframe tbody tr th:only-of-type {\n",
       "        vertical-align: middle;\n",
       "    }\n",
       "\n",
       "    .dataframe tbody tr th {\n",
       "        vertical-align: top;\n",
       "    }\n",
       "\n",
       "    .dataframe thead th {\n",
       "        text-align: right;\n",
       "    }\n",
       "</style>\n",
       "<table border=\"1\" class=\"dataframe\">\n",
       "  <thead>\n",
       "    <tr style=\"text-align: right;\">\n",
       "      <th></th>\n",
       "      <th>Genre01</th>\n",
       "      <th>Genre02</th>\n",
       "      <th>Genre03</th>\n",
       "    </tr>\n",
       "  </thead>\n",
       "  <tbody>\n",
       "    <tr>\n",
       "      <th>995</th>\n",
       "      <td>Comedy</td>\n",
       "      <td>Drama</td>\n",
       "      <td>Romance</td>\n",
       "    </tr>\n",
       "    <tr>\n",
       "      <th>996</th>\n",
       "      <td>Drama</td>\n",
       "      <td>Western</td>\n",
       "      <td>Drama</td>\n",
       "    </tr>\n",
       "    <tr>\n",
       "      <th>997</th>\n",
       "      <td>Drama</td>\n",
       "      <td>Romance</td>\n",
       "      <td>War</td>\n",
       "    </tr>\n",
       "    <tr>\n",
       "      <th>998</th>\n",
       "      <td>Drama</td>\n",
       "      <td>War</td>\n",
       "      <td>Drama</td>\n",
       "    </tr>\n",
       "    <tr>\n",
       "      <th>999</th>\n",
       "      <td>Crime</td>\n",
       "      <td>Mystery</td>\n",
       "      <td>Thriller</td>\n",
       "    </tr>\n",
       "  </tbody>\n",
       "</table>\n",
       "</div>"
      ],
      "text/plain": [
       "    Genre01  Genre02   Genre03\n",
       "995  Comedy    Drama   Romance\n",
       "996   Drama  Western     Drama\n",
       "997   Drama  Romance       War\n",
       "998   Drama      War     Drama\n",
       "999   Crime  Mystery  Thriller"
      ]
     },
     "execution_count": 158,
     "metadata": {},
     "output_type": "execute_result"
    }
   ],
   "source": [
    "imdb_genre[['Genre01', 'Genre02', 'Genre03']].tail()"
   ]
  },
  {
   "cell_type": "markdown",
   "id": "aa2dcbb3-fa5e-49e1-8dde-e8c12cb6967a",
   "metadata": {
    "jp-MarkdownHeadingCollapsed": true,
    "tags": []
   },
   "source": [
    "---\n",
    "## Análise ao Longo do Anos\n",
    "---"
   ]
  },
  {
   "cell_type": "markdown",
   "id": "91ecff28-1ddf-4e30-863b-51210c4be42d",
   "metadata": {
    "tags": []
   },
   "source": [
    "### Definição da View"
   ]
  },
  {
   "cell_type": "code",
   "execution_count": 159,
   "id": "d2476b3e-e111-4f16-a56c-1d58278161fc",
   "metadata": {},
   "outputs": [],
   "source": [
    "year_view_css = HTML(\n",
    "    value = \"\"\"\n",
    "        <style>\n",
    "            .widget-radio-box {\n",
    "                flex-direction: row !important; \n",
    "                width: 100vw!important;\n",
    "                }\n",
    "                \n",
    "            .widget-radio-box label{\n",
    "                margin:5px !important;\n",
    "                width: 180px!important;\n",
    "                }\n",
    "        </style>\n",
    "    \"\"\"\n",
    ")"
   ]
  },
  {
   "cell_type": "code",
   "execution_count": 160,
   "id": "ab1879a6-c1dc-46f2-bf16-fe76ddb8292a",
   "metadata": {
    "tags": []
   },
   "outputs": [],
   "source": [
    "class YearView(object):\n",
    "    \n",
    "    def __init__(self, css):\n",
    "        \n",
    "        self.datasets = []\n",
    "        self.labels = []\n",
    "        self.titles = []\n",
    "        \n",
    "        self.css = css\n",
    "        \n",
    "        display(self.css)\n",
    "    \n",
    "    def add_dataset(self, data, labels, title):\n",
    "        \n",
    "        self.datasets.append(data)\n",
    "        self.labels.append(labels)\n",
    "        self.titles.append(title)"
   ]
  },
  {
   "cell_type": "code",
   "execution_count": 161,
   "id": "902018f0-3a36-48ab-8268-7f54cbc86354",
   "metadata": {},
   "outputs": [
    {
     "data": {
      "application/vnd.jupyter.widget-view+json": {
       "model_id": "ba1f5124293542efabadce1e72730a40",
       "version_major": 2,
       "version_minor": 0
      },
      "text/plain": [
       "HTML(value='\\n        <style>\\n            .widget-radio-box {\\n                flex-direction: row !important…"
      ]
     },
     "metadata": {},
     "output_type": "display_data"
    }
   ],
   "source": [
    "year_view = YearView(year_view_css)"
   ]
  },
  {
   "cell_type": "markdown",
   "id": "36aaa089-a68e-45fe-baff-7eb3e1c22b11",
   "metadata": {
    "tags": []
   },
   "source": [
    "### Adicionando os Datasets Por Ano"
   ]
  },
  {
   "cell_type": "code",
   "execution_count": 162,
   "id": "e611c207-237c-4ed7-904c-ebf4b38f0b17",
   "metadata": {},
   "outputs": [],
   "source": [
    "# Ano de lançamento\n",
    "\n",
    "released_year = imdb['Released_Year'].value_counts().sort_index(ascending=True).reset_index()\n",
    "released_year['ma'] = released_year['Released_Year'].rolling(10).mean()"
   ]
  },
  {
   "cell_type": "code",
   "execution_count": 163,
   "id": "485eaccd-946e-4ffb-9ca5-204efcc7e247",
   "metadata": {},
   "outputs": [],
   "source": [
    "year_view.add_dataset(released_year, ['Ano', 'Número de Filmes', 'Média Móvel de 10 anos'], 'Número de Filmes por Ano')"
   ]
  },
  {
   "cell_type": "code",
   "execution_count": 164,
   "id": "9d4e3e99-260a-4080-8487-314ae46c1f67",
   "metadata": {},
   "outputs": [],
   "source": [
    "# Arrecadação\n",
    "\n",
    "gross_year = imdb[[\"Released_Year\", \"Gross\"]].sort_values(by=\"Released_Year\", ascending=True).groupby('Released_Year', as_index = False).mean()\n",
    "gross_year['ma'] = gross_year[\"Gross\"].rolling(window=10, min_periods=10).mean()"
   ]
  },
  {
   "cell_type": "code",
   "execution_count": 165,
   "id": "84b701a9-e0a4-4924-94ce-36d61452c74f",
   "metadata": {},
   "outputs": [],
   "source": [
    "year_view.add_dataset(gross_year, ['Ano', 'Arrecadação Média', 'Média Móvel de 10 anos'], 'Arrecadação média dos Filmes ao longo dos anos')"
   ]
  },
  {
   "cell_type": "code",
   "execution_count": 166,
   "id": "8c80edef-25e9-46a8-8e4e-8ca3d65aa0ad",
   "metadata": {},
   "outputs": [],
   "source": [
    "runtime_year = imdb[[\"Released_Year\", \"Runtime\"]].sort_values(by=\"Released_Year\", ascending=True).groupby('Released_Year', as_index = False).mean()\n",
    "runtime_year['ma'] = runtime_year[\"Runtime\"].rolling(window=10, min_periods=10).mean()"
   ]
  },
  {
   "cell_type": "code",
   "execution_count": 167,
   "id": "f7040f0c-824a-4735-878c-d43300537604",
   "metadata": {},
   "outputs": [],
   "source": [
    "year_view.add_dataset(runtime_year, ['Ano', 'Duração Média', 'Média Móvel de 10 anos'], 'Duração média dos Filmes ao longo dos anos')"
   ]
  },
  {
   "cell_type": "code",
   "execution_count": 168,
   "id": "5a433964-7428-425f-9503-3cb593f4efda",
   "metadata": {},
   "outputs": [],
   "source": [
    "rating_year = imdb[[\"Released_Year\",\"IMDB_Rating\"]].groupby('Released_Year', as_index=False).mean()\n",
    "rating_year['ma'] = rating_year[\"IMDB_Rating\"].rolling(window=10, min_periods=10).mean()"
   ]
  },
  {
   "cell_type": "code",
   "execution_count": 169,
   "id": "76761b4f-8347-4c34-ae42-f6fbf7d23ded",
   "metadata": {},
   "outputs": [],
   "source": [
    "year_view.add_dataset(rating_year, ['Ano', 'Rating Médio', 'Média Móvel de 10 anos'], 'IMDb Rating médo ao longo dos anos')"
   ]
  },
  {
   "cell_type": "code",
   "execution_count": 170,
   "id": "b291735e-88bb-466b-98df-79137d9c0994",
   "metadata": {},
   "outputs": [],
   "source": [
    "score_year = imdb[[\"Released_Year\",\"Meta_score\"]].groupby('Released_Year', as_index=False).mean()\n",
    "score_year['ma'] = score_year[\"Meta_score\"].rolling(window=10, min_periods=10).mean()"
   ]
  },
  {
   "cell_type": "code",
   "execution_count": 171,
   "id": "27c0a9d4-dd2d-452a-8a37-c68c8052cbd1",
   "metadata": {},
   "outputs": [],
   "source": [
    "year_view.add_dataset(score_year, ['Ano', 'Socore Médio', 'Média Móvel de 10 anos'], 'Meta Score médio ao longo dos anos')"
   ]
  },
  {
   "cell_type": "markdown",
   "id": "eb074ed1-93c2-48cb-8c9a-6cd52859285e",
   "metadata": {
    "tags": []
   },
   "source": [
    "### Criando a figura"
   ]
  },
  {
   "cell_type": "code",
   "execution_count": 172,
   "id": "1a04c006",
   "metadata": {},
   "outputs": [],
   "source": [
    "def plot_times_serie(x, y, labels, title):\n",
    "    fig = go.Figure()\n",
    "\n",
    "    fig.add_trace(\n",
    "        go.Scatter(\n",
    "            x= x,\n",
    "            y= y[0],\n",
    "            legendgroup=\"group\",  # this can be any string, not just \"group\"\n",
    "            legendgrouptitle_text=\"Legenda\",\n",
    "            name = labels[1],\n",
    "            mode=\"lines\",\n",
    "        )\n",
    "    )\n",
    "\n",
    "    fig.add_trace(\n",
    "        go.Scatter(\n",
    "            x= x,\n",
    "            y= y[1],\n",
    "            legendgroup=\"group\",  # this can be any string, not just \"group\"\n",
    "            name = labels[2],\n",
    "            mode=\"lines\",\n",
    "        )\n",
    "    )\n",
    "    \n",
    "    fig.update_layout(\n",
    "        xaxis_title=\"Anos\",\n",
    "        title = title\n",
    "    )\n",
    "    return go.FigureWidget(fig)"
   ]
  },
  {
   "cell_type": "code",
   "execution_count": 173,
   "id": "4d0d2393-bb34-48df-ae51-934370e3defa",
   "metadata": {},
   "outputs": [],
   "source": [
    "year_view.plot_by_year = plot_times_serie(\n",
    "    year_view.datasets[0].iloc[:, 0], \n",
    "    [year_view.datasets[0].iloc[:, 1], year_view.datasets[0].iloc[:, 2]],\n",
    "    year_view.labels[0], year_view.titles[0])"
   ]
  },
  {
   "cell_type": "code",
   "execution_count": 174,
   "id": "30a47274-9264-4a50-9b1b-885559e81ac4",
   "metadata": {},
   "outputs": [],
   "source": [
    "def up_plot(_self, option):\n",
    "\n",
    "    n_op = _self.radio_options.options.index(option.new)\n",
    "    \n",
    "    \n",
    "    with _self.plot_by_year.batch_update():\n",
    "        \n",
    "        _self.plot_by_year.data[0].x = _self.datasets[n_op].iloc[:,0]\n",
    "        _self.plot_by_year.data[0].y = _self.datasets[n_op].iloc[:,1]\n",
    "        _self.plot_by_year.data[0].name = _self.labels[n_op][1]\n",
    "        \n",
    "        _self.plot_by_year.data[1].x = _self.datasets[n_op].iloc[:,0]\n",
    "        _self.plot_by_year.data[1].y = _self.datasets[n_op].iloc[:,2]\n",
    "        _self.plot_by_year.data[1].name = _self.labels[n_op][2]\n",
    "        \n",
    "        _self.plot_by_year.layout.title.text = _self.titles[n_op]\n",
    "    \n",
    "YearView.up_plot = up_plot"
   ]
  },
  {
   "cell_type": "markdown",
   "id": "99b3a8cf",
   "metadata": {
    "tags": []
   },
   "source": [
    "### Adicionando o Radio Butto"
   ]
  },
  {
   "cell_type": "code",
   "execution_count": 175,
   "id": "1b3761ce-0c61-4dcd-8a4a-8119db44f816",
   "metadata": {},
   "outputs": [],
   "source": [
    "year_view.radio_options = widgets.RadioButtons(\n",
    "    options = ['Filmes Por Ano', 'Arrecadação', 'Duração Média', 'IMDB Rating', 'Meta Score Médio'],\n",
    "    description='<b> Por:</b>',\n",
    ")"
   ]
  },
  {
   "cell_type": "code",
   "execution_count": 176,
   "id": "4b40169b-fcf2-4d51-948f-4badf4710f83",
   "metadata": {},
   "outputs": [],
   "source": [
    "year_view.radio_options.observe(year_view.up_plot, 'value')"
   ]
  },
  {
   "cell_type": "markdown",
   "id": "13b643ce-1667-44ad-bab1-38aabcbce7d5",
   "metadata": {
    "tags": []
   },
   "source": [
    "### Criando a Soma Acumulada De Filmes Por Gênero Por Ano"
   ]
  },
  {
   "cell_type": "code",
   "execution_count": 177,
   "id": "1fc2c2f9-4f0c-4450-b6e6-da280fa81825",
   "metadata": {},
   "outputs": [],
   "source": [
    "data_genres = imdb[\"Genre\"].str.split(', ',3,expand=True).fillna(value=np.nan)"
   ]
  },
  {
   "cell_type": "code",
   "execution_count": 178,
   "id": "5fe742b4-d459-4cd7-a1d3-b85412b10779",
   "metadata": {},
   "outputs": [],
   "source": [
    "genres = np.unique(data_genres.to_numpy().flatten().astype(str))[:-1]"
   ]
  },
  {
   "cell_type": "code",
   "execution_count": 179,
   "id": "b0fab58b-10b4-4cfd-babe-3f16147aa97f",
   "metadata": {},
   "outputs": [],
   "source": [
    "genres_dict = {}\n",
    "\n",
    "for genre in genres:\n",
    "    genres_dict[genre] = 0"
   ]
  },
  {
   "cell_type": "code",
   "execution_count": 180,
   "id": "ded3c2fb-fe09-4a2e-b186-b665b26dcfca",
   "metadata": {},
   "outputs": [],
   "source": [
    "years = imdb[\"Released_Year\"].unique()\n",
    "years.sort()"
   ]
  },
  {
   "cell_type": "code",
   "execution_count": 181,
   "id": "dc612ba2-e038-4475-b598-91b1603a8d0e",
   "metadata": {},
   "outputs": [],
   "source": [
    "genres_by_year = {}\n",
    "\n",
    "for year in years:\n",
    "    genres_by_year[year] = genres_dict.copy()"
   ]
  },
  {
   "cell_type": "code",
   "execution_count": 182,
   "id": "e81da857-2bcf-487d-a1f2-0563e6647052",
   "metadata": {},
   "outputs": [],
   "source": [
    "for year, genres in zip(imdb[\"Released_Year\"], data_genres.to_numpy()):\n",
    "    for genre in genres:\n",
    "        if not pd.isna(genre):\n",
    "            genres_by_year[year][genre] += 1"
   ]
  },
  {
   "cell_type": "code",
   "execution_count": 183,
   "id": "5542fc86-2e40-4945-8707-51110ece2368",
   "metadata": {},
   "outputs": [],
   "source": [
    "genres_by_year_cumsum = {years[0]: genres_by_year[years[0]]}\n",
    "\n",
    "for i in np.arange(1,years.shape[0]):\n",
    "    \n",
    "    temp = Counter(genres_by_year[years[i]])\n",
    "    temp.update(Counter(genres_by_year_cumsum[years[i-1]]))\n",
    "    \n",
    "    genres_by_year_cumsum[years[i]] = dict(temp)\n",
    "    "
   ]
  },
  {
   "cell_type": "code",
   "execution_count": 184,
   "id": "2480e84c-a1df-4eae-8d14-028c75a6d88b",
   "metadata": {},
   "outputs": [],
   "source": [
    "genres_by_year_list = []\n",
    "\n",
    "for year, generos in zip(years, genres_by_year_cumsum.values()): \n",
    "    for genero in generos.keys():\n",
    "        genres_by_year_list.append([year, genero, generos[genero]])\n",
    "    "
   ]
  },
  {
   "cell_type": "code",
   "execution_count": 185,
   "id": "3e75ecc2-ba34-4220-a00b-3580087a2929",
   "metadata": {},
   "outputs": [],
   "source": [
    "genre_year = pd.DataFrame(genres_by_year_list, columns = ['Ano', 'Genero', 'SomaAcumulada'])\n",
    "year_view.genre_year = genre_year"
   ]
  },
  {
   "cell_type": "markdown",
   "id": "4ff5cc07-eaaa-4aff-9ba0-66053c236f0b",
   "metadata": {
    "tags": []
   },
   "source": [
    "### Criando o Gráfico de Barras"
   ]
  },
  {
   "cell_type": "code",
   "execution_count": 186,
   "id": "91fc3d9c-9f11-46a7-8c45-361c9bcd13ac",
   "metadata": {},
   "outputs": [],
   "source": [
    "def animated_bars(x, y, title, labels, colors):\n",
    "    fig = go.Figure()\n",
    "\n",
    "\n",
    "    fig.add_trace(\n",
    "        go.Bar(\n",
    "            x = x,\n",
    "            y = y,\n",
    "            orientation= 'h',\n",
    "            marker_color = colors,\n",
    "        )\n",
    "    )\n",
    "    \n",
    "    fig.update_layout(\n",
    "        xaxis_title=labels[0],\n",
    "        yaxis_title=labels[1],\n",
    "        width=1200, height=700,\n",
    "        title = title,\n",
    "        template = 'plotly_white', \n",
    "\n",
    "    )\n",
    "\n",
    "    return go.FigureWidget(fig)\n",
    "    "
   ]
  },
  {
   "cell_type": "code",
   "execution_count": 187,
   "id": "3f1a86a6-523d-4624-ace1-0b0c9c95ada8",
   "metadata": {},
   "outputs": [],
   "source": [
    "year_view.genre_by_years_bars = animated_bars(\n",
    "    year_view.genre_year[year_view.genre_year.Ano == 2020]['SomaAcumulada'],\n",
    "    year_view.genre_year[year_view.genre_year.Ano == 2020]['Genero'],\n",
    "    'Número de Filmes Por Gênero ao Decorrer Dos Anos',\n",
    "    ['Filmes Até', 'Gênero'],\n",
    "    px.colors.qualitative.Dark24)"
   ]
  },
  {
   "cell_type": "code",
   "execution_count": 188,
   "id": "d37a274f-d588-451f-ad88-5b229703c42a",
   "metadata": {},
   "outputs": [],
   "source": [
    "def update_genre_by_years_bars(_self, x):    \n",
    "    \n",
    "    with _self.plot_by_year.batch_animate():\n",
    "        \n",
    "        _self.genre_by_years_bars.data[0].x = _self.genre_year[year_view.genre_year.Ano == x]['SomaAcumulada']\n",
    "        _self.genre_by_years_bars.data[0].y = _self.genre_year[year_view.genre_year.Ano == x]['Genero']\n",
    "    \n",
    "YearView.update_genre_by_years_bars = update_genre_by_years_bars"
   ]
  },
  {
   "cell_type": "markdown",
   "id": "89877cd9-7934-475f-b109-647eaaeff8d0",
   "metadata": {
    "tags": []
   },
   "source": [
    "### Slider "
   ]
  },
  {
   "cell_type": "code",
   "execution_count": 189,
   "id": "5db305a4-3e3e-4b55-8054-d3aec1056143",
   "metadata": {},
   "outputs": [],
   "source": [
    "year_view.genre_by_years_bars_slider = widgets.SelectionSlider(options=years)"
   ]
  },
  {
   "cell_type": "code",
   "execution_count": 190,
   "id": "81256f02-74a9-45f6-8d28-8abf9740b6a2",
   "metadata": {},
   "outputs": [
    {
     "data": {
      "application/vnd.jupyter.widget-view+json": {
       "model_id": "082cc03adb0a4ee19b651379119451dc",
       "version_major": 2,
       "version_minor": 0
      },
      "text/plain": [
       "interactive(children=(SelectionSlider(description='x', options=(1920, 1921, 1922, 1924, 1925, 1926, 1927, 1928…"
      ]
     },
     "metadata": {},
     "output_type": "display_data"
    },
    {
     "data": {
      "text/plain": [
       "<function ipywidgets.widgets.interaction._InteractFactory.__call__.<locals>.<lambda>(*args, **kwargs)>"
      ]
     },
     "execution_count": 190,
     "metadata": {},
     "output_type": "execute_result"
    }
   ],
   "source": [
    "widgets.interact(year_view.update_genre_by_years_bars, x = year_view.genre_by_years_bars_slider)"
   ]
  },
  {
   "cell_type": "markdown",
   "id": "72c68826-e5eb-4c2c-8804-f3e62c662f67",
   "metadata": {
    "tags": []
   },
   "source": [
    "### Layout"
   ]
  },
  {
   "cell_type": "code",
   "execution_count": 191,
   "id": "49778cdc-8573-40fb-815f-1f4bb390b333",
   "metadata": {},
   "outputs": [],
   "source": [
    "year_view.layout = VBox([year_view.radio_options, year_view.plot_by_year, year_view.genre_by_years_bars, year_view.genre_by_years_bars_slider])"
   ]
  },
  {
   "cell_type": "markdown",
   "id": "7a1712a7-5caa-46e8-b1fa-6f4904362457",
   "metadata": {
    "jp-MarkdownHeadingCollapsed": true,
    "tags": []
   },
   "source": [
    "---\n",
    "## Análise por Genêro\n",
    "---"
   ]
  },
  {
   "cell_type": "markdown",
   "id": "2c6cd7a2-bdb8-48e9-adcf-1f502f496eba",
   "metadata": {
    "tags": []
   },
   "source": [
    "### Criação da View Genero"
   ]
  },
  {
   "cell_type": "code",
   "execution_count": 192,
   "id": "6c60c04a-8230-46a8-9504-8fc237aaa7f0",
   "metadata": {},
   "outputs": [],
   "source": [
    "class GenreView(object):\n",
    "    \n",
    "    def __init__(self):\n",
    "        \n",
    "        self.datasets = {}\n",
    "    \n",
    "    def add_dataset(self, name, data, labels, title):\n",
    "        self.datasets[name] = {'data': data, 'xlabel': labels[0], 'ylabel': labels[1], 'title': title}"
   ]
  },
  {
   "cell_type": "code",
   "execution_count": 193,
   "id": "d6f67e97-1c40-49a4-a89d-cd02c5d9e67f",
   "metadata": {},
   "outputs": [],
   "source": [
    "genre_view = GenreView()"
   ]
  },
  {
   "cell_type": "markdown",
   "id": "793c08d9-286b-4177-9c7f-8eb99084de9e",
   "metadata": {
    "tags": []
   },
   "source": [
    "### Dados da Arrecadação"
   ]
  },
  {
   "cell_type": "code",
   "execution_count": 194,
   "id": "0b79c7d0-23b6-4cb9-8cdc-450d36f4dcc6",
   "metadata": {},
   "outputs": [],
   "source": [
    "data_genres = imdb[\"Genre\"].str.split(', ',3,expand=True).fillna(value=np.nan)"
   ]
  },
  {
   "cell_type": "code",
   "execution_count": 195,
   "id": "a85aa4a6-166c-4f13-8bc3-4fb412971540",
   "metadata": {},
   "outputs": [],
   "source": [
    "genres = np.unique(data_genres.to_numpy().flatten().astype(str))[:-1]"
   ]
  },
  {
   "cell_type": "code",
   "execution_count": 196,
   "id": "75cba87b-0dc7-4eff-8d35-9f344db02902",
   "metadata": {},
   "outputs": [
    {
     "data": {
      "text/plain": [
       "Index(['Series_Title', 'Released_Year', 'Certificate', 'Runtime', 'Genre',\n",
       "       'IMDB_Rating', 'Overview', 'Meta_score', 'Director', 'Star1', 'Star2',\n",
       "       'Star3', 'Star4', 'No_of_Votes', 'Gross'],\n",
       "      dtype='object')"
      ]
     },
     "execution_count": 196,
     "metadata": {},
     "output_type": "execute_result"
    }
   ],
   "source": [
    "imdb.columns"
   ]
  },
  {
   "cell_type": "code",
   "execution_count": 197,
   "id": "36eee391-db4e-487d-8d05-e1524fafcee7",
   "metadata": {},
   "outputs": [],
   "source": [
    "metrics_data = imdb[['IMDB_Rating', 'Meta_score', 'Gross']].to_numpy()"
   ]
  },
  {
   "cell_type": "code",
   "execution_count": 198,
   "id": "59ab8671-80ec-4f88-bbd2-92a541652966",
   "metadata": {},
   "outputs": [],
   "source": [
    "data_by_genre = []\n",
    "\n",
    "for i, film_genres in enumerate(data_genres.to_numpy()):\n",
    "    \n",
    "    for genre in film_genres:\n",
    "        if not pd.isna(genre):\n",
    "            temp = list(metrics_data[i])\n",
    "            temp.append(genre)\n",
    "            data_by_genre.append(temp)"
   ]
  },
  {
   "cell_type": "code",
   "execution_count": 199,
   "id": "1121f6d6-f133-4f27-91f5-0cd37bb1ca93",
   "metadata": {},
   "outputs": [
    {
     "data": {
      "text/html": [
       "<div>\n",
       "<style scoped>\n",
       "    .dataframe tbody tr th:only-of-type {\n",
       "        vertical-align: middle;\n",
       "    }\n",
       "\n",
       "    .dataframe tbody tr th {\n",
       "        vertical-align: top;\n",
       "    }\n",
       "\n",
       "    .dataframe thead th {\n",
       "        text-align: right;\n",
       "    }\n",
       "</style>\n",
       "<table border=\"1\" class=\"dataframe\">\n",
       "  <thead>\n",
       "    <tr style=\"text-align: right;\">\n",
       "      <th></th>\n",
       "      <th>IMDB</th>\n",
       "      <th>Meta</th>\n",
       "      <th>Arrecadacao</th>\n",
       "      <th>Genero</th>\n",
       "    </tr>\n",
       "  </thead>\n",
       "  <tbody>\n",
       "    <tr>\n",
       "      <th>0</th>\n",
       "      <td>9.3</td>\n",
       "      <td>80.0</td>\n",
       "      <td>28341469.0</td>\n",
       "      <td>Drama</td>\n",
       "    </tr>\n",
       "    <tr>\n",
       "      <th>1</th>\n",
       "      <td>9.2</td>\n",
       "      <td>100.0</td>\n",
       "      <td>134966411.0</td>\n",
       "      <td>Crime</td>\n",
       "    </tr>\n",
       "    <tr>\n",
       "      <th>2</th>\n",
       "      <td>9.2</td>\n",
       "      <td>100.0</td>\n",
       "      <td>134966411.0</td>\n",
       "      <td>Drama</td>\n",
       "    </tr>\n",
       "    <tr>\n",
       "      <th>3</th>\n",
       "      <td>9.0</td>\n",
       "      <td>84.0</td>\n",
       "      <td>534858444.0</td>\n",
       "      <td>Action</td>\n",
       "    </tr>\n",
       "    <tr>\n",
       "      <th>4</th>\n",
       "      <td>9.0</td>\n",
       "      <td>84.0</td>\n",
       "      <td>534858444.0</td>\n",
       "      <td>Crime</td>\n",
       "    </tr>\n",
       "  </tbody>\n",
       "</table>\n",
       "</div>"
      ],
      "text/plain": [
       "   IMDB   Meta  Arrecadacao  Genero\n",
       "0   9.3   80.0   28341469.0   Drama\n",
       "1   9.2  100.0  134966411.0   Crime\n",
       "2   9.2  100.0  134966411.0   Drama\n",
       "3   9.0   84.0  534858444.0  Action\n",
       "4   9.0   84.0  534858444.0   Crime"
      ]
     },
     "execution_count": 199,
     "metadata": {},
     "output_type": "execute_result"
    }
   ],
   "source": [
    "data_by_genre = pd.DataFrame(data_by_genre, columns = ['IMDB', 'Meta', 'Arrecadacao', 'Genero'])\n",
    "data_by_genre.head()"
   ]
  },
  {
   "cell_type": "code",
   "execution_count": 200,
   "id": "74e2ab24-b8dd-48df-83ed-da44c89806cd",
   "metadata": {},
   "outputs": [],
   "source": [
    "genre_view.gross = data_by_genre[['Genero', 'Arrecadacao']].groupby(by = 'Genero')\n",
    "\n",
    "genre_view.IMDB_Meta = data_by_genre[['Genero', 'IMDB', 'Meta','Arrecadacao']].groupby(by = 'Genero')"
   ]
  },
  {
   "cell_type": "markdown",
   "id": "f0b9d3fc-d07c-4c83-8e10-8b8104254ac1",
   "metadata": {
    "tags": []
   },
   "source": [
    "### Gráficos"
   ]
  },
  {
   "cell_type": "code",
   "execution_count": 201,
   "id": "9f8f3510-4e1c-4cdb-a7c5-80817814562a",
   "metadata": {},
   "outputs": [],
   "source": [
    "gross_sum = genre_view.gross.sum().sort_values('Arrecadacao',ascending=False).reset_index()\n",
    "\n",
    "n_films_by_genre = genre_view.gross.count().reset_index()"
   ]
  },
  {
   "cell_type": "code",
   "execution_count": 202,
   "id": "720a1d65-3f9f-48fb-b73d-f98790cb5a07",
   "metadata": {},
   "outputs": [],
   "source": [
    "output = widgets.Output()\n",
    "with output:\n",
    "    \n",
    "    fig, ax = plt.subplots(1, 1, figsize = (30, 6)) # Create matplotlib figure\n",
    "    ax2 = ax.twinx() # Create another axes that shares the same x-axis as ax.\n",
    "\n",
    "    width = 0.4\n",
    "\n",
    "    gross_sum.plot(kind='bar', x= 'Genero', y = 'Arrecadacao', color='C0', ax=ax, width=width, position=1, alpha = 0.8, label = 'Arrecadacao')\n",
    "    n_films_by_genre.plot(kind='bar', x= 'Genero', y = 'Arrecadacao', color='C2', ax=ax2, width=width, position=0, alpha = 0.8, label = 'Arrecadacao')\n",
    "\n",
    "\n",
    "    ax.get_legend().remove()\n",
    "    ax2.get_legend().remove()\n",
    "\n",
    "    ax.set_ylabel('Arrecadação em Milhões', color = 'C0')\n",
    "    ax2.set_ylabel('Nº de Filmes', color = 'C2')\n",
    "\n",
    "    ax2.spines['left'].set_color('C0')\n",
    "    ax2.spines['right'].set_color('C2')\n",
    "\n",
    "    ax.tick_params(axis='y', colors='C0')\n",
    "    ax2.tick_params(axis='y', colors='C2')\n",
    "\n",
    "    plt.xlim(-1, 21)\n",
    "\n",
    "    ax.set_xlabel(\"Gênero\")\n",
    "    plt.title(\"Arrecadação por Gênero\", fontsize=20)\n",
    "    plt.show()"
   ]
  },
  {
   "cell_type": "code",
   "execution_count": 203,
   "id": "9068c8f3-14de-4bc1-b2a5-c9e02357cb51",
   "metadata": {},
   "outputs": [],
   "source": [
    "mean_imdb_meta = genre_view.IMDB_Meta.mean().reset_index()\n",
    "median_imdb_meta = genre_view.IMDB_Meta.median().reset_index()"
   ]
  },
  {
   "cell_type": "code",
   "execution_count": 204,
   "id": "5fcb1e75-1d32-428c-8391-2f3c11179699",
   "metadata": {},
   "outputs": [],
   "source": [
    "imdb_stat = mean_imdb_meta[['Genero']]\n",
    "imdb_stat['Mean'] = mean_imdb_meta['IMDB']\n",
    "imdb_stat['Median'] = median_imdb_meta['IMDB']\n",
    "\n",
    "imdb_stat = imdb_stat.sort_values('Mean',ascending=False)"
   ]
  },
  {
   "cell_type": "code",
   "execution_count": 267,
   "id": "6d423e3b-d74d-4f5e-8596-d1dc0f645abb",
   "metadata": {},
   "outputs": [],
   "source": [
    "plt_imdb_genre = go.Figure()\n",
    "\n",
    "plt_imdb_genre.add_trace(go.Bar(name=\"Média\", x=imdb_stat.Genero, y=imdb_stat.Mean, ))\n",
    "plt_imdb_genre.add_trace(go.Bar(name=\"Mediana\", x=imdb_stat.Genero, y=imdb_stat.Median, ))\n",
    "\n",
    "plt_imdb_genre.update_layout(\n",
    "    xaxis_title=\"Gênero\",\n",
    "    yaxis_title=\"IMDB Rating\",\n",
    "    title = 'IMDB Rating Por Gênero',\n",
    "    yaxis_range=[7.8, 8.1]\n",
    ")\n",
    "\n",
    "plt_imdb_genre = go.FigureWidget(plt_imdb_genre)"
   ]
  },
  {
   "cell_type": "code",
   "execution_count": 206,
   "id": "620508d0-478a-4b7a-a776-0ce6a8e38111",
   "metadata": {},
   "outputs": [],
   "source": [
    "meta_stat = mean_imdb_meta[['Genero']]\n",
    "meta_stat['Mean'] = mean_imdb_meta['Meta']\n",
    "meta_stat['Median'] = median_imdb_meta['Meta']\n",
    "\n",
    "meta_stat = meta_stat.sort_values('Mean',ascending=False)"
   ]
  },
  {
   "cell_type": "code",
   "execution_count": 271,
   "id": "192a1ee9-bca9-4934-bbe8-4de67ffc4b8a",
   "metadata": {},
   "outputs": [],
   "source": [
    "plt_meta_genre = go.Figure()\n",
    "\n",
    "plt_meta_genre.add_trace(go.Bar(name=\"Média\", x=meta_stat.Genero, y=meta_stat.Mean, ))\n",
    "plt_meta_genre.add_trace(go.Bar(name=\"Mediana\", x=meta_stat.Genero, y=meta_stat.Median, ))\n",
    "\n",
    "plt_meta_genre.update_layout(\n",
    "    xaxis_title=\"Gênero\",\n",
    "    yaxis_title=\"Meta Score\",\n",
    "    title = 'Meta Score Por Gênero',\n",
    "    yaxis_range=[70, 90]\n",
    ")\n",
    "\n",
    "plt_meta_genre = go.FigureWidget(plt_meta_genre)"
   ]
  },
  {
   "cell_type": "code",
   "execution_count": 272,
   "id": "8ba87f09-8e08-4881-b57d-039b5b49b928",
   "metadata": {},
   "outputs": [],
   "source": [
    "genre_view.layout = VBox([output, plt_imdb_genre, plt_meta_genre])"
   ]
  },
  {
   "cell_type": "markdown",
   "id": "18682e8f-3804-46bd-bd53-0ac6ed13b13e",
   "metadata": {
    "tags": []
   },
   "source": [
    "---\n",
    "## Análise Por Atores\n",
    "---"
   ]
  },
  {
   "cell_type": "markdown",
   "id": "16075629-6f57-4686-aad9-0dd9b93f4468",
   "metadata": {
    "tags": []
   },
   "source": [
    "### View Top10 Atores"
   ]
  },
  {
   "cell_type": "code",
   "execution_count": 209,
   "id": "d26a5254-72c2-4dd8-9a81-19c363a1d57f",
   "metadata": {},
   "outputs": [],
   "source": [
    "class ActorView(object):\n",
    "    \n",
    "    def __init__(self):\n",
    "        \n",
    "        self.datasets = {}\n",
    "    \n",
    "    def add_dataset(self, name, data, labels, title):\n",
    "        self.datasets[name] = {'data': data, 'xlabel': labels[0], 'ylabel': labels[1], 'title': title}"
   ]
  },
  {
   "cell_type": "code",
   "execution_count": 210,
   "id": "48f23181-5fa2-4aab-b6a6-c625ae2567f8",
   "metadata": {},
   "outputs": [],
   "source": [
    "actor_view = ActorView()"
   ]
  },
  {
   "cell_type": "markdown",
   "id": "4db43695-5666-45dc-987a-f04f3f596d0c",
   "metadata": {
    "tags": []
   },
   "source": [
    "### Preparando o Dataset dos TOP10"
   ]
  },
  {
   "cell_type": "code",
   "execution_count": 211,
   "id": "b6a69097-414d-44db-9d4c-2439f7e42ea7",
   "metadata": {},
   "outputs": [],
   "source": [
    "imdbTop10 = imdb\n",
    "actorsRev = {}\n",
    "actorsNVotes = {}\n",
    "actorsRating = {}\n",
    "actorsScore = {}\n",
    "\n",
    "for starNumber in np.arange(1, 5):\n",
    "\n",
    "  stars = imdbTop10['Star'+str(starNumber)]\n",
    "\n",
    "  for row in np.arange(imdbTop10.shape[0]):\n",
    "    \n",
    "    if stars.iloc[row] not in actorsRev:\n",
    "      actorsRev[stars.iloc[row]] = 0\n",
    "      actorsNVotes[stars.iloc[row]] = []\n",
    "      actorsRating[stars.iloc[row]] = []\n",
    "      actorsScore[stars.iloc[row]] = []\n",
    "    \n",
    "    actorsRev[stars.iloc[row]] += imdbTop10['Gross'].iloc[row]\n",
    "    actorsNVotes[stars.iloc[row]].append(imdbTop10['No_of_Votes'].iloc[row])\n",
    "    actorsRating[stars.iloc[row]].append(imdbTop10['IMDB_Rating'].iloc[row])\n",
    "    actorsScore[stars.iloc[row]].append(imdbTop10['Meta_score'].iloc[row])"
   ]
  },
  {
   "cell_type": "code",
   "execution_count": 212,
   "id": "3e8928e2-816e-4e2f-8c59-ebf0f8c1926e",
   "metadata": {},
   "outputs": [],
   "source": [
    "actorsDf = pd.DataFrame(actorsRev.keys(), columns = ['Actor'])\n",
    "actorsDf['Gross'] =  actorsRev.values()\n",
    "\n",
    "actorsDf['No_of_Votes'] = actorsNVotes.values()\n",
    "actorsDf['MeanVotes'] = actorsDf['No_of_Votes'].apply(np.mean)\n",
    "\n",
    "actorsDf['IMDB_Ratings'] = actorsRating.values()\n",
    "actorsDf['MeanRating'] = actorsDf['IMDB_Ratings'].apply(np.mean)\n",
    "\n",
    "actorsDf['Meta_score'] = actorsScore.values()\n",
    "actorsDf['MeanScore'] = actorsDf['Meta_score'].apply(np.mean)"
   ]
  },
  {
   "cell_type": "code",
   "execution_count": 213,
   "id": "f0873dd3-9ada-4a8e-b74e-09fbe9f94792",
   "metadata": {},
   "outputs": [],
   "source": [
    "actorsDf = actorsDf.sort_values(by=\"Gross\", ascending=False)"
   ]
  },
  {
   "cell_type": "code",
   "execution_count": 214,
   "id": "b3c756f2-9fb3-48ca-95d6-2e70d930659f",
   "metadata": {},
   "outputs": [],
   "source": [
    "actorsList = []\n",
    "\n",
    "for starNumber in np.arange(1, 5):\n",
    "\n",
    "  stars = imdb['Star'+str(starNumber)]\n",
    "\n",
    "  for row in np.arange(imdb.shape[0]):\n",
    "\n",
    "    actorsList.append([stars.iloc[row]] + list(imdb[['Series_Title', 'Gross', 'IMDB_Rating', 'Meta_score', 'No_of_Votes']].iloc[row]))"
   ]
  },
  {
   "cell_type": "code",
   "execution_count": 215,
   "id": "7c56301d-0284-44f7-8fa0-40f5542f4d6c",
   "metadata": {},
   "outputs": [],
   "source": [
    "actors = pd.DataFrame(actorsList, columns = ['Actor','Series_Title','Gross', 'IMDB_Rating', 'Meta_score', 'No_of_Votes'])\n",
    "byActors = actors.groupby('Actor', as_index = False).sum().sort_values('Gross',ascending=False)"
   ]
  },
  {
   "cell_type": "code",
   "execution_count": 216,
   "id": "4474ac8a-4aca-4f10-82ad-4db0603a5e0f",
   "metadata": {},
   "outputs": [],
   "source": [
    "top10Actors = byActors[:10]\n",
    "top10ActorsList = actors[actors['Actor'].isin(top10Actors['Actor'])]"
   ]
  },
  {
   "cell_type": "code",
   "execution_count": 217,
   "id": "b21c667b-2ba6-4f47-ba10-fef57f62393a",
   "metadata": {},
   "outputs": [],
   "source": [
    "actor_view.actor_list = top10ActorsList.copy()"
   ]
  },
  {
   "cell_type": "code",
   "execution_count": 218,
   "id": "7c42d673-1ae2-4a0a-be00-f15574046a08",
   "metadata": {},
   "outputs": [],
   "source": [
    "actor_view.actor_list.columns = ['Ator', 'Obra', 'Arrecadação', 'Nota do IMDB', 'Meta Score', 'Número de Votos']\n",
    "actor_view.titles = ['Arrecadação Por Ator', 'IMDB Por Ator', 'Meta Score Por Ator', 'Número de Votos Por Ator']"
   ]
  },
  {
   "cell_type": "markdown",
   "id": "1b67c655-9d01-4a1c-adac-85690ad153fa",
   "metadata": {
    "tags": []
   },
   "source": [
    "### Gráfico de Arrecadação Nod TOP10 Atores"
   ]
  },
  {
   "cell_type": "code",
   "execution_count": 219,
   "id": "7a685ece-40a4-4a65-b3c5-535b547c4bf2",
   "metadata": {},
   "outputs": [],
   "source": [
    "fig = px.bar(top10ActorsList, \n",
    "             x='Actor',\n",
    "             y='Gross',\n",
    "             color='Meta_score',\n",
    "             hover_name='Series_Title',\n",
    "             text='IMDB_Rating',\n",
    "             title='Atores/Atrizes com maiores arrecadações', \n",
    "             color_discrete_sequence=px.colors.sequential.Viridis,\n",
    "             labels = {\"Gross\":\"Arrecadação\", \"Actor\":\"Ator/Atriz\"},\n",
    "             template = 'plotly_white')\n",
    "\n",
    "fig.update_xaxes(categoryarray = top10Actors['Actor'])\n",
    "\n",
    "actor_view.plot_top_gross = go.FigureWidget(fig)"
   ]
  },
  {
   "cell_type": "markdown",
   "id": "355d859a-67e3-4a7e-8628-9630e79c2062",
   "metadata": {
    "tags": []
   },
   "source": [
    "### Gráficos Da Dsitribuição Por Ator"
   ]
  },
  {
   "cell_type": "code",
   "execution_count": 220,
   "id": "b0c08f5a-57bc-4a77-9ff9-26323e1e733c",
   "metadata": {},
   "outputs": [],
   "source": [
    "actor_view.options = ['Arrecadação', 'Nota do IMDB', 'Meta Score', 'Número de Votos']"
   ]
  },
  {
   "cell_type": "code",
   "execution_count": 221,
   "id": "d4660769-a2b6-4422-87cc-41397a8c6f7a",
   "metadata": {},
   "outputs": [],
   "source": [
    "def handler_box_plot_actors(_self, por='Arrecadação'):\n",
    "    \n",
    "    n = _self.options.index(por)\n",
    "    \n",
    "    fig = px.box(\n",
    "        _self.actor_list, \n",
    "        x = 'Ator',\n",
    "        y = por, \n",
    "        color = 'Ator', \n",
    "        color_discrete_sequence = px.colors.sequential.Viridis,\n",
    "        template = 'plotly_white',\n",
    "        title = _self.titles[n],\n",
    "    )\n",
    "    \n",
    "    fig.update_xaxes(categoryarray =_self.actor_list['Ator'])\n",
    "\n",
    "    fig.update(layout_showlegend=False)\n",
    "    \n",
    "    return go.FigureWidget(fig)\n",
    "    \n",
    "ActorView.handler_box_plot_actors = handler_box_plot_actors"
   ]
  },
  {
   "cell_type": "code",
   "execution_count": 222,
   "id": "2fd03614-fe98-45d4-8701-efab3c956d52",
   "metadata": {},
   "outputs": [],
   "source": [
    "def actor_gross(_self):\n",
    "    \n",
    "    radio_options = widgets.RadioButtons(\n",
    "        options = _self.options,\n",
    "        description='<b>Por:</b>',\n",
    "    )\n",
    "    \n",
    "    output = widgets.Output()\n",
    "    \n",
    "    with output:    \n",
    "        widgets.interact(_self.handler_box_plot_actors, por = radio_options)\n",
    "    \n",
    "    return output\n",
    "\n",
    "ActorView.actor_gross = actor_gross"
   ]
  },
  {
   "cell_type": "markdown",
   "id": "0358895a-7c79-41ae-8565-d811b864f2ed",
   "metadata": {
    "tags": []
   },
   "source": [
    "### Gráficos de Distribuição"
   ]
  },
  {
   "cell_type": "code",
   "execution_count": 278,
   "id": "b0e43203-1cc1-487b-9818-9c7a01b7b381",
   "metadata": {},
   "outputs": [],
   "source": [
    "actor_metrics = actorsDf.sort_values('Gross',ascending=False)[['Actor', 'MeanScore', 'MeanRating', 'MeanVotes']][:10]\n",
    "actor_metrics.columns = ['Ator', 'Score Médio', 'Rating Médio', 'Número de Votos Médio']"
   ]
  },
  {
   "cell_type": "code",
   "execution_count": 279,
   "id": "073c98b1-ce22-460b-a661-b76020216e16",
   "metadata": {},
   "outputs": [],
   "source": [
    "actor_view.metrics = actor_metrics\n",
    "actor_view.options_metrics = ['Score Médio', 'Rating Médio', 'Número de Votos Médio']\n",
    "actor_view.title_metrics = ['Score Médio Por Ator', 'Rating Médio Por Ator', 'Número de Votos Médio Por Ator']"
   ]
  },
  {
   "cell_type": "code",
   "execution_count": 280,
   "id": "07b91d1f-2e97-4c49-946b-63914b244129",
   "metadata": {},
   "outputs": [],
   "source": [
    "def handler_box_plot_metrics(_self, por='Score Médio'):\n",
    "    \n",
    "    n = _self.options_metrics.index(por)\n",
    "    \n",
    "    fig = px.bar(\n",
    "        _self.metrics, \n",
    "        x = 'Ator',\n",
    "        y = por, \n",
    "        color = 'Ator', \n",
    "        color_discrete_sequence = px.colors.sequential.Viridis,\n",
    "        template = 'plotly_white',\n",
    "        title = _self.title_metrics[n-1],\n",
    "    )\n",
    "    \n",
    "    fig.update_xaxes(categoryarray =_self.metrics['Ator'])\n",
    "\n",
    "    fig.update(layout_showlegend=False)\n",
    "    \n",
    "    return go.FigureWidget(fig)\n",
    "    \n",
    "ActorView.handler_box_plot_metrics = handler_box_plot_metrics"
   ]
  },
  {
   "cell_type": "code",
   "execution_count": 281,
   "id": "a1c91bf6-03a9-439f-855b-4defe7b4a8c6",
   "metadata": {},
   "outputs": [],
   "source": [
    "def actor_metrics(_self):\n",
    "    \n",
    "    radio_options = widgets.RadioButtons(\n",
    "        options = _self.options_metrics,\n",
    "        description='<b>Por:</b>',\n",
    "    )\n",
    "    \n",
    "    output = widgets.Output()\n",
    "    \n",
    "    with output:    \n",
    "        widgets.interact(_self.handler_box_plot_metrics, por = radio_options)\n",
    "    \n",
    "    return output\n",
    "\n",
    "ActorView.actor_metrics = actor_metrics"
   ]
  },
  {
   "cell_type": "markdown",
   "id": "20cc325b-6e86-4c1f-9408-e997dc19a227",
   "metadata": {},
   "source": [
    "### Layout"
   ]
  },
  {
   "cell_type": "code",
   "execution_count": 282,
   "id": "1ef3599d-2b3a-4e81-bd38-640e3f0dc3d6",
   "metadata": {},
   "outputs": [],
   "source": [
    "def layout(_self):\n",
    "    \n",
    "    return VBox([_self.plot_top_gross, _self.actor_gross(), _self.actor_metrics()])\n",
    "\n",
    "ActorView.layout = layout"
   ]
  },
  {
   "cell_type": "markdown",
   "id": "70ced022-2223-45ee-9c8e-b4adacdcd51c",
   "metadata": {
    "tags": []
   },
   "source": [
    "## Análise Por Filme"
   ]
  },
  {
   "cell_type": "markdown",
   "id": "cfec1f40-8522-4b0d-a7b8-f8c5b78b6f3a",
   "metadata": {
    "tags": []
   },
   "source": [
    "### Criando FilmView"
   ]
  },
  {
   "cell_type": "code",
   "execution_count": 228,
   "id": "aeca5099-ab60-47c7-95b3-390df1037893",
   "metadata": {},
   "outputs": [],
   "source": [
    "class FilmView(object):\n",
    "    \n",
    "    def __init__(self):\n",
    "        \n",
    "        self.datasets = {}\n",
    "    \n",
    "    def add_dataset(self, name, data, title):\n",
    "        self.datasets[name] = {'data': data,'title': title}\n",
    "    \n",
    "    def get_dataset(self, name):\n",
    "        return  self.datasets[name]\n",
    "    \n",
    "    def list_datasets(self):\n",
    "        print(self.datasets.keys())"
   ]
  },
  {
   "cell_type": "code",
   "execution_count": 229,
   "id": "d8f56832-9d93-4aca-be39-d9872bcf5039",
   "metadata": {},
   "outputs": [],
   "source": [
    "film_view = FilmView()"
   ]
  },
  {
   "cell_type": "markdown",
   "id": "4c57ca99-0e79-491d-8689-149e03ffd767",
   "metadata": {
    "tags": []
   },
   "source": [
    "### Preparando o Dataset"
   ]
  },
  {
   "cell_type": "code",
   "execution_count": 230,
   "id": "a805d271-79c2-4786-9f90-3f56c937c005",
   "metadata": {},
   "outputs": [],
   "source": [
    "top10SeriesNames = imdb.sort_values('Gross',ascending=False)['Series_Title'][:10]\n",
    "top10SeriesList = actors[actors['Series_Title'].isin(top10SeriesNames)]\n",
    "\n",
    "#grouping by IMDb rating\n",
    "top10SeriesNamesIMDb = imdb.sort_values('IMDB_Rating',ascending=False)['Series_Title'][:10]\n",
    "top10SeriesListImdb = actors[actors['Series_Title'].isin(top10SeriesNamesIMDb)]\n",
    "\n",
    "top10SeriesListImdb['isTop10Actor'] = top10SeriesList['Actor'].isin(top10Actors['Actor'])"
   ]
  },
  {
   "cell_type": "code",
   "execution_count": 231,
   "id": "424111aa-42fc-4e19-90c6-ab97680171d2",
   "metadata": {},
   "outputs": [],
   "source": [
    "top10SeriesList['isTop10Actor'] = top10SeriesList['Actor'].isin(top10Actors['Actor'])"
   ]
  },
  {
   "cell_type": "code",
   "execution_count": 232,
   "id": "53d0a2df-bb98-4461-ba4f-60ef06db81da",
   "metadata": {},
   "outputs": [],
   "source": [
    "top10Series = top10SeriesList.groupby('Series_Title', as_index = False)"
   ]
  },
  {
   "cell_type": "markdown",
   "id": "b377a306-72c5-4acb-8d07-251360745a35",
   "metadata": {
    "tags": []
   },
   "source": [
    "### Top10 Por Arrecadação Dataset"
   ]
  },
  {
   "cell_type": "code",
   "execution_count": 233,
   "id": "4944050b-ee28-4e54-85bc-37f080598a06",
   "metadata": {},
   "outputs": [],
   "source": [
    "top10Prod = imdb.sort_values('Gross',ascending=False)[:10]"
   ]
  },
  {
   "cell_type": "code",
   "execution_count": 234,
   "id": "c1d13482-571e-4b27-8b25-e88232a2f466",
   "metadata": {},
   "outputs": [],
   "source": [
    "columns = ['Series_Title', 'Released_Year', 'Runtime', 'IMDB_Rating', 'Meta_score', 'No_of_Votes', 'Gross']\n",
    "\n",
    "top10gross = imdb.sort_values('Gross',ascending=False)[:10]\n",
    "top10gross = top10gross[columns]"
   ]
  },
  {
   "cell_type": "code",
   "execution_count": 235,
   "id": "62a80eeb-edc3-44a6-ad2b-d020e3d37084",
   "metadata": {},
   "outputs": [],
   "source": [
    "top10gross['TopActors'] = top10Series.sum().sort_values('Gross', ascending=False)[:10]['isTop10Actor'].values"
   ]
  },
  {
   "cell_type": "code",
   "execution_count": 236,
   "id": "4785088b-454a-41cd-ac02-672296e5d141",
   "metadata": {},
   "outputs": [],
   "source": [
    "column_titles = ['Produção', 'Estreia', 'Duração', 'Nota do IMDB', 'Meta Score', 'Número de Votos', 'Arrecadação','Nº de Atores Entre os Top10 Arrecadação']\n",
    "top10gross.columns = column_titles"
   ]
  },
  {
   "cell_type": "code",
   "execution_count": 237,
   "id": "10127136-8253-46de-8f8b-5bbb09d86958",
   "metadata": {},
   "outputs": [],
   "source": [
    "film_view.add_dataset('gross', top10gross, ' Dos Top 10 Filmes Por Arrecadação')"
   ]
  },
  {
   "cell_type": "markdown",
   "id": "c7b5e97c-8b1a-4ea0-a3b8-29850587eaa8",
   "metadata": {
    "tags": []
   },
   "source": [
    "### Gráficos dos 10 Filmes Que Mais Arrecadaram"
   ]
  },
  {
   "cell_type": "code",
   "execution_count": 238,
   "id": "875181aa-103a-4f8d-97ea-6af986e1775d",
   "metadata": {},
   "outputs": [],
   "source": [
    "film_view.gross_options = ['Estreia', 'Duração', 'Nota do IMDB', 'Meta Score', 'Número de Votos', 'Arrecadação']"
   ]
  },
  {
   "cell_type": "code",
   "execution_count": 239,
   "id": "de9034ee-b301-4396-b1af-5ac4b6be10c8",
   "metadata": {},
   "outputs": [],
   "source": [
    "def handler_film_gross(_self, por='Número de Votos'):\n",
    "    \n",
    "    n = _self.gross_options.index(por)\n",
    "    data, title = _self.get_dataset('gross').values()\n",
    "    \n",
    "    fig = px.bar(\n",
    "        data, \n",
    "        x = 'Produção',\n",
    "        y = por, \n",
    "        color = 'Produção', \n",
    "        color_discrete_sequence = px.colors.sequential.Viridis,\n",
    "        template = 'plotly_white',\n",
    "        title = por+title,\n",
    "        width = 1200,\n",
    "        height = 600,\n",
    "    )\n",
    "    \n",
    "    dy = data[por].max() - data[por].min()\n",
    "    y_min = data[por].max() - dy*1.1\n",
    "    y_max = data[por].max() + dy*0.1\n",
    "    \n",
    "    fig.update_yaxes(range=[y_min, y_max])\n",
    "    fig.update(layout_showlegend=False)\n",
    "    \n",
    "    return go.FigureWidget(fig)\n",
    "    \n",
    "FilmView.handler_film_gross = handler_film_gross"
   ]
  },
  {
   "cell_type": "code",
   "execution_count": 240,
   "id": "015c0c14-96db-4fab-a31a-6dee25a5f1dd",
   "metadata": {},
   "outputs": [],
   "source": [
    "def film_gross(_self):\n",
    "    \n",
    "    radio_options = widgets.RadioButtons(\n",
    "        options = _self.gross_options,\n",
    "        description='<b>Por:</b>',\n",
    "    )\n",
    "    \n",
    "    output = widgets.Output()\n",
    "    \n",
    "    with output:    \n",
    "        widgets.interact(_self.handler_film_gross, por = radio_options)\n",
    "    \n",
    "    return output\n",
    "\n",
    "FilmView.film_gross = film_gross"
   ]
  },
  {
   "cell_type": "markdown",
   "id": "cbd05020-86b7-4d20-acdf-c71dc7891761",
   "metadata": {
    "tags": []
   },
   "source": [
    "### Dados dos Top10 IMDB Rating"
   ]
  },
  {
   "cell_type": "code",
   "execution_count": 241,
   "id": "69014986-3319-4732-9264-a6255f51cab3",
   "metadata": {},
   "outputs": [],
   "source": [
    "top10IMDB = imdb.sort_values('IMDB_Rating',ascending=False)[:10]\n",
    "top10IMDB['TopActors'] = top10Series.sum().sort_values('IMDB_Rating', ascending=False)[:10]['isTop10Actor'].values"
   ]
  },
  {
   "cell_type": "code",
   "execution_count": 242,
   "id": "a992c2a9-dfd7-4ea8-a544-c758e45b0dd2",
   "metadata": {},
   "outputs": [],
   "source": [
    "columns = ['Series_Title', 'Released_Year', 'Runtime', 'IMDB_Rating', 'Meta_score', 'No_of_Votes', 'Gross','TopActors']\n",
    "column_titles = ['Produção', 'Estreia', 'Duração', 'Nota do IMDB', 'Meta Score', 'Número de Votos', 'Arrecadação','Nº de Atores Entre os Top10 Arrecadação']"
   ]
  },
  {
   "cell_type": "code",
   "execution_count": 243,
   "id": "896dab57-9321-4bf7-84a8-795e0207a4ca",
   "metadata": {},
   "outputs": [],
   "source": [
    "top10IMDB = top10IMDB[columns]\n",
    "top10IMDB.columns = column_titles"
   ]
  },
  {
   "cell_type": "code",
   "execution_count": 244,
   "id": "f3a82185-fc15-4a49-98a5-17d9b5fbaaf0",
   "metadata": {},
   "outputs": [
    {
     "data": {
      "text/html": [
       "<div>\n",
       "<style scoped>\n",
       "    .dataframe tbody tr th:only-of-type {\n",
       "        vertical-align: middle;\n",
       "    }\n",
       "\n",
       "    .dataframe tbody tr th {\n",
       "        vertical-align: top;\n",
       "    }\n",
       "\n",
       "    .dataframe thead th {\n",
       "        text-align: right;\n",
       "    }\n",
       "</style>\n",
       "<table border=\"1\" class=\"dataframe\">\n",
       "  <thead>\n",
       "    <tr style=\"text-align: right;\">\n",
       "      <th></th>\n",
       "      <th>Produção</th>\n",
       "      <th>Estreia</th>\n",
       "      <th>Duração</th>\n",
       "      <th>Nota do IMDB</th>\n",
       "      <th>Meta Score</th>\n",
       "      <th>Número de Votos</th>\n",
       "      <th>Arrecadação</th>\n",
       "      <th>Nº de Atores Entre os Top10 Arrecadação</th>\n",
       "    </tr>\n",
       "  </thead>\n",
       "  <tbody>\n",
       "    <tr>\n",
       "      <th>0</th>\n",
       "      <td>The Shawshank Redemption</td>\n",
       "      <td>1994</td>\n",
       "      <td>142</td>\n",
       "      <td>9.3</td>\n",
       "      <td>80.0</td>\n",
       "      <td>2343110</td>\n",
       "      <td>28341469.0</td>\n",
       "      <td>0</td>\n",
       "    </tr>\n",
       "    <tr>\n",
       "      <th>1</th>\n",
       "      <td>The Godfather</td>\n",
       "      <td>1972</td>\n",
       "      <td>175</td>\n",
       "      <td>9.2</td>\n",
       "      <td>100.0</td>\n",
       "      <td>1620367</td>\n",
       "      <td>134966411.0</td>\n",
       "      <td>4</td>\n",
       "    </tr>\n",
       "    <tr>\n",
       "      <th>2</th>\n",
       "      <td>The Dark Knight</td>\n",
       "      <td>2008</td>\n",
       "      <td>152</td>\n",
       "      <td>9.0</td>\n",
       "      <td>84.0</td>\n",
       "      <td>2303232</td>\n",
       "      <td>534858444.0</td>\n",
       "      <td>3</td>\n",
       "    </tr>\n",
       "    <tr>\n",
       "      <th>3</th>\n",
       "      <td>The Godfather: Part II</td>\n",
       "      <td>1974</td>\n",
       "      <td>202</td>\n",
       "      <td>9.0</td>\n",
       "      <td>90.0</td>\n",
       "      <td>1129952</td>\n",
       "      <td>57300000.0</td>\n",
       "      <td>0</td>\n",
       "    </tr>\n",
       "    <tr>\n",
       "      <th>4</th>\n",
       "      <td>12 Angry Men</td>\n",
       "      <td>1957</td>\n",
       "      <td>96</td>\n",
       "      <td>9.0</td>\n",
       "      <td>96.0</td>\n",
       "      <td>689845</td>\n",
       "      <td>4360000.0</td>\n",
       "      <td>2</td>\n",
       "    </tr>\n",
       "  </tbody>\n",
       "</table>\n",
       "</div>"
      ],
      "text/plain": [
       "                   Produção  Estreia  Duração  Nota do IMDB  Meta Score  \\\n",
       "0  The Shawshank Redemption     1994      142           9.3        80.0   \n",
       "1             The Godfather     1972      175           9.2       100.0   \n",
       "2           The Dark Knight     2008      152           9.0        84.0   \n",
       "3    The Godfather: Part II     1974      202           9.0        90.0   \n",
       "4              12 Angry Men     1957       96           9.0        96.0   \n",
       "\n",
       "   Número de Votos  Arrecadação  Nº de Atores Entre os Top10 Arrecadação  \n",
       "0          2343110   28341469.0                                        0  \n",
       "1          1620367  134966411.0                                        4  \n",
       "2          2303232  534858444.0                                        3  \n",
       "3          1129952   57300000.0                                        0  \n",
       "4           689845    4360000.0                                        2  "
      ]
     },
     "execution_count": 244,
     "metadata": {},
     "output_type": "execute_result"
    }
   ],
   "source": [
    "top10IMDB.head()"
   ]
  },
  {
   "cell_type": "code",
   "execution_count": 245,
   "id": "d86c4361-22bf-4b88-ad3d-16f99ae0bf7d",
   "metadata": {},
   "outputs": [],
   "source": [
    "film_view.add_dataset('imdb', top10IMDB, ' Dos Top 10 Filmes Pelo IMDB Rating')"
   ]
  },
  {
   "cell_type": "markdown",
   "id": "996433b4-d886-4d32-83c9-207a544a2088",
   "metadata": {},
   "source": [
    "### Gráficos dos 10 Filmes Com o Maior IMDB Rating"
   ]
  },
  {
   "cell_type": "code",
   "execution_count": 246,
   "id": "22e44f76-0787-4b7e-84ab-ef9273dd8f77",
   "metadata": {},
   "outputs": [],
   "source": [
    "film_view.imdb_options = ['Estreia', 'Duração', 'Nota do IMDB', 'Meta Score', 'Número de Votos', 'Arrecadação']"
   ]
  },
  {
   "cell_type": "code",
   "execution_count": 247,
   "id": "436a0c4e-ad5d-4fe3-8544-dade01c60908",
   "metadata": {},
   "outputs": [],
   "source": [
    "def handler_film_imdb(_self, por='Número de Votos'):\n",
    "    \n",
    "    n = _self.imdb_options.index(por)\n",
    "    data, title = _self.get_dataset('imdb').values()\n",
    "    \n",
    "    fig = px.bar(\n",
    "        data, \n",
    "        x = 'Produção',\n",
    "        y = por, \n",
    "        color = 'Produção', \n",
    "        color_discrete_sequence = px.colors.sequential.Viridis,\n",
    "        template = 'plotly_white',\n",
    "        title = por+title,\n",
    "        width = 1200,\n",
    "        height = 600,\n",
    "    )\n",
    "    \n",
    "    dy = data[por].max() - data[por].min()\n",
    "    y_min = data[por].max() - dy*1.1\n",
    "    y_max = data[por].max() + dy*0.1\n",
    "    \n",
    "    fig.update_yaxes(range=[y_min, y_max])\n",
    "    fig.update(layout_showlegend=False)\n",
    "    \n",
    "    return go.FigureWidget(fig)\n",
    "    \n",
    "FilmView.handler_film_imdb = handler_film_imdb"
   ]
  },
  {
   "cell_type": "code",
   "execution_count": 248,
   "id": "c4b1ce4f-4e8e-4e12-b2b8-0097546d2024",
   "metadata": {},
   "outputs": [],
   "source": [
    "def film_imdb(_self):\n",
    "    \n",
    "    radio_options = widgets.RadioButtons(\n",
    "        options = _self.imdb_options,\n",
    "        description='<b>Por:</b>',\n",
    "    )\n",
    "    \n",
    "    output = widgets.Output()\n",
    "    \n",
    "    with output:    \n",
    "        widgets.interact(_self.handler_film_imdb, por = radio_options)\n",
    "    \n",
    "    return output\n",
    "\n",
    "FilmView.film_imdb = film_imdb"
   ]
  },
  {
   "cell_type": "markdown",
   "id": "fcb302eb-de6c-42c7-852c-e4854383daca",
   "metadata": {
    "tags": []
   },
   "source": [
    "### Dados dos Top10 Meta Scorer"
   ]
  },
  {
   "cell_type": "code",
   "execution_count": 249,
   "id": "388f0f98-63ef-44ae-9589-8e96fc556139",
   "metadata": {},
   "outputs": [],
   "source": [
    "top10Meta = imdb.sort_values('Meta_score',ascending=False)[:10]\n",
    "top10Meta['TopActors'] = top10Series.sum().sort_values('Meta_score', ascending=False)[:10]['isTop10Actor'].values"
   ]
  },
  {
   "cell_type": "code",
   "execution_count": 250,
   "id": "abca27b1-32bc-4829-bade-3db947dc63b0",
   "metadata": {},
   "outputs": [],
   "source": [
    "top10Meta = top10Meta[columns]\n",
    "top10Meta.columns = column_titles"
   ]
  },
  {
   "cell_type": "code",
   "execution_count": 251,
   "id": "9961e0ca-b1c8-4739-8a08-c24397c53388",
   "metadata": {},
   "outputs": [],
   "source": [
    "film_view.add_dataset('meta', top10Meta, ' Dos Top 10 Filmes Pelo Meta Score')"
   ]
  },
  {
   "cell_type": "code",
   "execution_count": 252,
   "id": "8badf48f-9768-40cd-a4fe-da3f7a142615",
   "metadata": {},
   "outputs": [
    {
     "data": {
      "text/html": [
       "<div>\n",
       "<style scoped>\n",
       "    .dataframe tbody tr th:only-of-type {\n",
       "        vertical-align: middle;\n",
       "    }\n",
       "\n",
       "    .dataframe tbody tr th {\n",
       "        vertical-align: top;\n",
       "    }\n",
       "\n",
       "    .dataframe thead th {\n",
       "        text-align: right;\n",
       "    }\n",
       "</style>\n",
       "<table border=\"1\" class=\"dataframe\">\n",
       "  <thead>\n",
       "    <tr style=\"text-align: right;\">\n",
       "      <th></th>\n",
       "      <th>Produção</th>\n",
       "      <th>Estreia</th>\n",
       "      <th>Duração</th>\n",
       "      <th>Nota do IMDB</th>\n",
       "      <th>Meta Score</th>\n",
       "      <th>Número de Votos</th>\n",
       "      <th>Arrecadação</th>\n",
       "      <th>Nº de Atores Entre os Top10 Arrecadação</th>\n",
       "    </tr>\n",
       "  </thead>\n",
       "  <tbody>\n",
       "    <tr>\n",
       "      <th>0</th>\n",
       "      <td>The Shawshank Redemption</td>\n",
       "      <td>1994</td>\n",
       "      <td>142</td>\n",
       "      <td>9.3</td>\n",
       "      <td>80.0</td>\n",
       "      <td>2343110</td>\n",
       "      <td>28341469.0</td>\n",
       "      <td>0</td>\n",
       "    </tr>\n",
       "    <tr>\n",
       "      <th>1</th>\n",
       "      <td>The Godfather</td>\n",
       "      <td>1972</td>\n",
       "      <td>175</td>\n",
       "      <td>9.2</td>\n",
       "      <td>100.0</td>\n",
       "      <td>1620367</td>\n",
       "      <td>134966411.0</td>\n",
       "      <td>4</td>\n",
       "    </tr>\n",
       "    <tr>\n",
       "      <th>2</th>\n",
       "      <td>The Dark Knight</td>\n",
       "      <td>2008</td>\n",
       "      <td>152</td>\n",
       "      <td>9.0</td>\n",
       "      <td>84.0</td>\n",
       "      <td>2303232</td>\n",
       "      <td>534858444.0</td>\n",
       "      <td>3</td>\n",
       "    </tr>\n",
       "    <tr>\n",
       "      <th>3</th>\n",
       "      <td>The Godfather: Part II</td>\n",
       "      <td>1974</td>\n",
       "      <td>202</td>\n",
       "      <td>9.0</td>\n",
       "      <td>90.0</td>\n",
       "      <td>1129952</td>\n",
       "      <td>57300000.0</td>\n",
       "      <td>0</td>\n",
       "    </tr>\n",
       "    <tr>\n",
       "      <th>4</th>\n",
       "      <td>12 Angry Men</td>\n",
       "      <td>1957</td>\n",
       "      <td>96</td>\n",
       "      <td>9.0</td>\n",
       "      <td>96.0</td>\n",
       "      <td>689845</td>\n",
       "      <td>4360000.0</td>\n",
       "      <td>2</td>\n",
       "    </tr>\n",
       "  </tbody>\n",
       "</table>\n",
       "</div>"
      ],
      "text/plain": [
       "                   Produção  Estreia  Duração  Nota do IMDB  Meta Score  \\\n",
       "0  The Shawshank Redemption     1994      142           9.3        80.0   \n",
       "1             The Godfather     1972      175           9.2       100.0   \n",
       "2           The Dark Knight     2008      152           9.0        84.0   \n",
       "3    The Godfather: Part II     1974      202           9.0        90.0   \n",
       "4              12 Angry Men     1957       96           9.0        96.0   \n",
       "\n",
       "   Número de Votos  Arrecadação  Nº de Atores Entre os Top10 Arrecadação  \n",
       "0          2343110   28341469.0                                        0  \n",
       "1          1620367  134966411.0                                        4  \n",
       "2          2303232  534858444.0                                        3  \n",
       "3          1129952   57300000.0                                        0  \n",
       "4           689845    4360000.0                                        2  "
      ]
     },
     "execution_count": 252,
     "metadata": {},
     "output_type": "execute_result"
    }
   ],
   "source": [
    "top10IMDB.head()"
   ]
  },
  {
   "cell_type": "markdown",
   "id": "3713b4a2-1d10-4da4-a330-039f84249e8e",
   "metadata": {},
   "source": [
    "### Gráficos dos 10 Filmes Com o Maior Meta Score"
   ]
  },
  {
   "cell_type": "code",
   "execution_count": 253,
   "id": "57f0ae04-2c48-4795-8b28-6b2e3ed38afe",
   "metadata": {},
   "outputs": [],
   "source": [
    "film_view.meta_options = ['Estreia', 'Duração', 'Nota do IMDB', 'Meta Score', 'Número de Votos', 'Arrecadação']"
   ]
  },
  {
   "cell_type": "code",
   "execution_count": 254,
   "id": "c11db711-1e95-485f-97fd-ffaa7d2a3423",
   "metadata": {},
   "outputs": [],
   "source": [
    "def handler_film_meta(_self, por='Número de Votos'):\n",
    "    \n",
    "    n = _self.meta_options.index(por)\n",
    "    data, title = _self.get_dataset('meta').values()\n",
    "    \n",
    "    fig = px.bar(\n",
    "        data, \n",
    "        x = 'Produção',\n",
    "        y = por, \n",
    "        color = 'Produção', \n",
    "        color_discrete_sequence = px.colors.sequential.Viridis,\n",
    "        template = 'plotly_white',\n",
    "        title = por+title,\n",
    "        width = 1200,\n",
    "        height = 600,\n",
    "    )\n",
    "    \n",
    "    dy = data[por].max() - data[por].min()\n",
    "    y_min = data[por].max() - dy*1.1\n",
    "    y_max = data[por].max() + dy*0.1\n",
    "    \n",
    "    fig.update_yaxes(range=[y_min, y_max])\n",
    "    fig.update(layout_showlegend=False)\n",
    "    \n",
    "    return go.FigureWidget(fig)\n",
    "    \n",
    "FilmView.handler_film_meta = handler_film_meta"
   ]
  },
  {
   "cell_type": "code",
   "execution_count": 255,
   "id": "8b6cb1d8-f7ca-4599-9d85-fb3fdfc3c461",
   "metadata": {},
   "outputs": [],
   "source": [
    "def film_meta(_self):\n",
    "    \n",
    "    radio_options = widgets.RadioButtons(\n",
    "        options = _self.meta_options,\n",
    "        description='<b>Por:</b>',\n",
    "    )\n",
    "    \n",
    "    output = widgets.Output()\n",
    "    \n",
    "    with output:    \n",
    "        widgets.interact(_self.handler_film_meta, por = radio_options)\n",
    "    \n",
    "    return output\n",
    "\n",
    "FilmView.film_meta = film_meta"
   ]
  },
  {
   "cell_type": "markdown",
   "id": "515ebde3-51f3-4479-b898-709f6194e20e",
   "metadata": {},
   "source": [
    "### Layout"
   ]
  },
  {
   "cell_type": "code",
   "execution_count": 256,
   "id": "6454ed8a-59f0-41c9-a8e0-513ba1a3cce1",
   "metadata": {},
   "outputs": [],
   "source": [
    "def layout(_self):\n",
    "    \n",
    "    return VBox([_self.film_gross(), _self.film_imdb(), _self.film_meta()])\n",
    "\n",
    "FilmView.layout = layout"
   ]
  },
  {
   "cell_type": "markdown",
   "id": "c26c2b0c-5c14-4aae-a909-dbe93601ec57",
   "metadata": {},
   "source": [
    "## Análise Por Métricas"
   ]
  },
  {
   "cell_type": "markdown",
   "id": "8cfc1699-c675-45a9-9719-68f468ac865f",
   "metadata": {},
   "source": [
    "### Criando a MetricsView"
   ]
  },
  {
   "cell_type": "code",
   "execution_count": 257,
   "id": "16530328-4ddf-4d75-b8c3-cd9ffb94d6e8",
   "metadata": {},
   "outputs": [],
   "source": [
    "class MetricsView(object):\n",
    "    \n",
    "    def __init__(self):\n",
    "        \n",
    "        self.datasets = {}\n",
    "    \n",
    "    def add_dataset(self, name, data, title):\n",
    "        self.datasets[name] = {'data': data,'title': title}\n",
    "    \n",
    "    def get_dataset(self, name):\n",
    "        return  self.datasets[name]\n",
    "    \n",
    "    def list_datasets(self):\n",
    "        print(self.datasets.keys())"
   ]
  },
  {
   "cell_type": "code",
   "execution_count": 258,
   "id": "eb348d55-df3d-489b-9f8e-bfff4f61c3cc",
   "metadata": {},
   "outputs": [],
   "source": [
    "metrics_view = MetricsView()"
   ]
  },
  {
   "cell_type": "markdown",
   "id": "dc8b2be2-8e05-4399-9858-f9eb9c4d0f5f",
   "metadata": {
    "tags": []
   },
   "source": [
    "### Gráfico da Distribuição do IMDB por Meta e Número de Votos"
   ]
  },
  {
   "cell_type": "code",
   "execution_count": 259,
   "id": "4118954a-4735-4be2-880b-0f21dfcf46f9",
   "metadata": {},
   "outputs": [],
   "source": [
    "fig = px.scatter(imdb, \n",
    "                 y = 'Meta_score', \n",
    "                 x = 'IMDB_Rating', \n",
    "                 size = 'Gross', \n",
    "                 color = 'No_of_Votes', \n",
    "                 hover_name = 'Series_Title', \n",
    "                 color_continuous_scale='RdYlGn_r',\n",
    "                 labels = {\"IMDB_Rating\":\"IMDB Rating\", \"Meta_score\":\"Meta Score\"},\n",
    "                 template = 'plotly_white')\n",
    "\n",
    "fig.layout.coloraxis.colorbar.title = 'Número de Votos'\n",
    "\n",
    "metrics_view.scatter = go.FigureWidget(fig)"
   ]
  },
  {
   "cell_type": "markdown",
   "id": "fb01d926-5c6f-4041-bc4f-84d8a387545e",
   "metadata": {},
   "source": [
    "### Histograma IMDB "
   ]
  },
  {
   "cell_type": "code",
   "execution_count": 260,
   "id": "53f6bffe-fc49-4c56-ad6d-7956fb78e3eb",
   "metadata": {},
   "outputs": [],
   "source": [
    "metrics_view.add_dataset('imdb',imdb,'imdb')"
   ]
  },
  {
   "cell_type": "code",
   "execution_count": 261,
   "id": "745457f0-dfa1-489e-8948-e9e1f29a71f9",
   "metadata": {},
   "outputs": [],
   "source": [
    "def imdb_hist(_self):\n",
    "    output = widgets.Output()\n",
    "    data = _self.get_dataset('imdb')['data']\n",
    "    \n",
    "    with output:    \n",
    "        \n",
    "        rating_bins = np.arange(7.5,10,0.25) \n",
    "\n",
    "        ax = plot_ratings(data[\"IMDB_Rating\"], bins = rating_bins, label_location = 0.09, size = [5, 3])\n",
    "\n",
    "        plt.sca(ax)\n",
    "\n",
    "        plt.xticks(rating_bins, fontsize = 8)\n",
    "        plt.yticks(np.arange(0, 0.45, 0.05), labels = range(0, 45, 5), fontsize = 8)\n",
    "\n",
    "        plt.margins(x=0.08, y = 0.075)\n",
    "        plt.ylim(0, 0.4)\n",
    "        plt.xlabel('IMDB Rating', fontsize = 12)\n",
    "        plt.ylabel('Percentil',fontsize = 12)\n",
    "        plt.title('Distribuição do IMDB Rating', fontsize = 12)\n",
    "        \n",
    "        plt.show()\n",
    "    \n",
    "    return output\n",
    "        \n",
    "MetricsView.imdb_hist = imdb_hist"
   ]
  },
  {
   "cell_type": "markdown",
   "id": "bf2e437c-a5bc-4be7-abe9-0ba691ee2143",
   "metadata": {},
   "source": [
    "### Histograma Meta Score\n"
   ]
  },
  {
   "cell_type": "code",
   "execution_count": 262,
   "id": "f9aed812-64de-4edc-a7a3-910398782b81",
   "metadata": {},
   "outputs": [],
   "source": [
    "def meta_hist(_self):\n",
    "    output = widgets.Output()\n",
    "    data = _self.get_dataset('imdb')['data']\n",
    "    \n",
    "    with output:    \n",
    "        \n",
    "        rating_bins = np.arange(0, 101, 10) \n",
    "\n",
    "        ax = plot_ratings(data[\"Meta_score\"], bins = rating_bins, label_location = 4, size = [5, 3])\n",
    "\n",
    "        plt.sca(ax)\n",
    "\n",
    "        plt.xticks(rating_bins, fontsize = 8)\n",
    "        plt.yticks(np.arange(0, 0.45, 0.05), labels = range(0, 45, 5), fontsize = 8)\n",
    "\n",
    "        plt.margins(x=0.08, y = 0.075)\n",
    "        plt.ylim(0, 0.45)\n",
    "        plt.xlabel('Meta Score', fontsize = 12)\n",
    "        plt.ylabel('Percentil',fontsize = 12)\n",
    "        plt.title('Distribuição do Meta Score', fontsize = 12)\n",
    "        \n",
    "        plt.show()\n",
    "    \n",
    "    return output\n",
    "        \n",
    "MetricsView.meta_hist = meta_hist"
   ]
  },
  {
   "cell_type": "markdown",
   "id": "60a9aeea-d9ca-4a51-820f-4e7140e862e4",
   "metadata": {},
   "source": [
    "### Layout"
   ]
  },
  {
   "cell_type": "code",
   "execution_count": 263,
   "id": "abecb36e-f34a-4f22-893f-836548e8f313",
   "metadata": {},
   "outputs": [],
   "source": [
    "def layout(_self):\n",
    "    box_layout = widgets.Layout(display='flex',\n",
    "                flex_flow='row',\n",
    "                justify_content = 'space-around',\n",
    "                align_items='center',\n",
    "                width='100%')\n",
    "    \n",
    "    return VBox([_self.scatter, HBox([_self.imdb_hist(), _self.meta_hist()], layout=box_layout)])\n",
    "\n",
    "MetricsView.layout = layout"
   ]
  },
  {
   "cell_type": "markdown",
   "id": "4a99896f-26ed-4be1-8612-04893730ca72",
   "metadata": {},
   "source": [
    "---\n",
    "## Dash\n",
    "---"
   ]
  },
  {
   "cell_type": "markdown",
   "id": "e0166284-f99b-4225-bf56-124eae527db3",
   "metadata": {
    "tags": []
   },
   "source": [
    "\n",
    "### Introdução\n"
   ]
  },
  {
   "cell_type": "code",
   "execution_count": 264,
   "id": "0883afb1-fd2b-4ca2-a468-c0f1a85b1465",
   "metadata": {
    "jupyter": {
     "source_hidden": true
    },
    "tags": []
   },
   "outputs": [],
   "source": [
    "introduction = \"\"\"\n",
    "    <hr/>\n",
    "    <center>\n",
    "        <h1>Introdução</h1>\n",
    "    </center>\n",
    "    <hr/>\n",
    "    \n",
    "    <div style = \"display: flex; flex-direction: row; justify-content: space-between;\">\n",
    "        \n",
    "        <div style = \"flex-direction: column; width: 50%;\"> \n",
    "            <div style = \"padding: 5%; \">  \n",
    "                <h2>Dataset</h2>\n",
    "                <hr/>\n",
    "                <p>\n",
    "                    O conjunto de dados escolhido foi o IMDB Movies Dataset, ou apenas\n",
    "                    IMDB, que reune informações sobre os TOP 1000 filmes e séries de televisão,\n",
    "                    lançados entre os anos de 1920 e 2020, entre os 10 milhões presentes e avaliados\n",
    "                    pelo público em seu website.\n",
    "\n",
    "                </p>\n",
    "            </div>\n",
    "            \n",
    "            <div style = \"padding: 5%; \"> \n",
    "                <h2>Objetivos</h2>\n",
    "                <hr/>\n",
    "                <ul>\n",
    "                    <li>Qual a influência do ano de lançamento em métricas como o <b>Rating</b>, o número de votos e o tempo de duração;</li>\n",
    "                    <li>Como é a presença dos gêneros e sua influência na arrecadação;</li>\n",
    "                    <li>Quais os atores que mais se destacam e suas produções melhores avaliadas;</li>\n",
    "                    <li>Se há, ou não, relação entre as métricas;</li>\n",
    "                    <li>Qual a influência dos dieretores;</li>\n",
    "                </ul>\n",
    "            </div>\n",
    "            \n",
    "            <div style = \"\"> \n",
    "        \n",
    "            </div>\n",
    "        </div>\n",
    "        \n",
    "        <div style = \"width: 50%;\">\n",
    "            <div style = \"padding: 5%;\">\n",
    "                <h2>Dicionário de Dados</h2>\n",
    "                <hr/>\n",
    "                \n",
    "                <table style = \"width: 100%;  border-collapse: collapse;\">\n",
    "                    <tr style = ''>\n",
    "                        <th style = \"border-bottom: 1px solid grey;\">Atributo</th>\n",
    "                        <th style = \"border-bottom: 1px solid grey;\"> Descrição</th>\n",
    "                    </tr>\n",
    "                    <tr>\n",
    "                        <td style = \"font-weight: bold;\">RunTime</td>\n",
    "                        <td>Duração Total da obra.</td>\n",
    "                    </tr>\n",
    "                    <tr>\n",
    "                        <td style = \"font-weight: bold;\">Gross</td>\n",
    "                        <td>Dinherio arrecadado pela obra.</td>\n",
    "                    </tr>\n",
    "                    <tr>\n",
    "                        <td style = \"font-weight: bold;\">IMDB Rating</td>\n",
    "                        <td>Avaliação da obra pelos usuários.</td>\n",
    "                    </tr>\n",
    "                    <tr>\n",
    "                        <td style = \"font-weight: bold;\">Meta Score</td>\n",
    "                        <td>Média ponderada das avaliações recebidas.</td>\n",
    "                    </tr>\n",
    "                    <tr>\n",
    "                        <td style = \"font-weight: bold;\">Nº of Votes</td>\n",
    "                        <td>Número de votos recebidos.</td>\n",
    "                    </tr>\n",
    "                    <tr>\n",
    "                        <td style = \"font-weight: bold;\">Released Year</td>\n",
    "                        <td>Ano de estreia.</td>\n",
    "                    </tr>\n",
    "                    <tr>\n",
    "                        <td style = \"font-weight: bold;\">Certificate</td>\n",
    "                        <td>Restrição de idade no país de registro.</td>\n",
    "                    </tr>\n",
    "                    <tr>\n",
    "                        <td style = \"font-weight: bold;\">Genre</td>\n",
    "                        <td>Gênero da obra.</td>\n",
    "                    </tr>\n",
    "                    <tr>\n",
    "                        <td style = \"font-weight: bold;\">Poster Link</td>\n",
    "                        <td>Link para o poster exibido no site.</td>\n",
    "                    </tr>\n",
    "                    <tr>\n",
    "                        <td style = \"font-weight: bold;\">Series Title</td>\n",
    "                        <td>Nome da obra.</td>\n",
    "                    </tr>\n",
    "                    <tr>\n",
    "                        <td style = \"font-weight: bold;\">Over View</td>\n",
    "                        <td>Resumo/Sinopse.</td>\n",
    "                    </tr>\n",
    "                    <tr>\n",
    "                        <td style = \"font-weight: bold;\">Director</td>\n",
    "                        <td>Nome do diretor.</td>\n",
    "                    </tr>\n",
    "                    <tr>\n",
    "                        <td style = \"font-weight: bold;\">Star<sub>i = {1, 2, 3, 4}</sub></td>\n",
    "                        <td>Nome das principais estrelas presentes na obra.</td>\n",
    "                    </tr>\n",
    "                </table>\n",
    "            \n",
    "            </div>\n",
    "            \n",
    "        </div>\n",
    "    </div>\n",
    "\n",
    "\"\"\""
   ]
  },
  {
   "cell_type": "markdown",
   "id": "b86c7ebf-52ea-4055-a68c-f9912eace819",
   "metadata": {},
   "source": [
    "### Criação das Tabs"
   ]
  },
  {
   "cell_type": "code",
   "execution_count": 283,
   "id": "71cdb1bd-a73b-40b5-bd9f-3684855f3c1e",
   "metadata": {},
   "outputs": [
    {
     "data": {
      "application/vnd.jupyter.widget-view+json": {
       "model_id": "52c38ba2f30142138b77c9a62d69e259",
       "version_major": 2,
       "version_minor": 0
      },
      "text/plain": [
       "Tab(children=(HTML(value='\\n    <hr/>\\n    <center>\\n        <h1>Introdução</h1>\\n    </center>\\n    <hr/>\\n  …"
      ]
     },
     "metadata": {},
     "output_type": "display_data"
    }
   ],
   "source": [
    "tab_contents = ['Introdução','Ano', 'Genêro', 'Atores', 'Filmes', 'Métricas']\n",
    "\n",
    "tab = widgets.Tab([HTML(introduction), year_view.layout, genre_view.layout, actor_view.layout(), film_view.layout() , metrics_view.layout()])\n",
    "\n",
    "tab.set_title(0, 'Introdução')\n",
    "\n",
    "for i, tab_name in enumerate(tab_contents[1:]):\n",
    "\n",
    "  tab.set_title(i+1, f'{tab_name}')\n",
    "\n",
    "tab.selected_index = 0\n",
    "\n",
    "tab"
   ]
  },
  {
   "cell_type": "code",
   "execution_count": null,
   "id": "44de8a21-745e-4c5e-b1c8-c4fdeef8fee3",
   "metadata": {},
   "outputs": [],
   "source": []
  },
  {
   "cell_type": "code",
   "execution_count": null,
   "id": "49501eae-49a0-4c78-be7e-de5b0dec812b",
   "metadata": {},
   "outputs": [],
   "source": []
  }
 ],
 "metadata": {
  "kernelspec": {
   "display_name": "Python 3 (ipykernel)",
   "language": "python",
   "name": "python3"
  },
  "language_info": {
   "codemirror_mode": {
    "name": "ipython",
    "version": 3
   },
   "file_extension": ".py",
   "mimetype": "text/x-python",
   "name": "python",
   "nbconvert_exporter": "python",
   "pygments_lexer": "ipython3",
   "version": "3.9.12"
  }
 },
 "nbformat": 4,
 "nbformat_minor": 5
}
